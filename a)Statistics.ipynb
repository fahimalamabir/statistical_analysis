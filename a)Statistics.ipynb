{
 "cells": [
  {
   "cell_type": "markdown",
   "metadata": {},
   "source": [
    "<center> <h1> Statistics with Python Specialization</h1>\n",
    "    <sub> by University of Michigan </sub>\n",
    "    <h3> Course 1:  Understanding and Visualizing Data with Python </h2>\n",
    "</center>\n",
    "\n",
    "In this course, learners will be introduced to the field of statistics, including where data come from, study design, data management, and exploring and visualizing data. Learners will identify different types of data, and learn how to visualize, analyze, and interpret summaries for both univariate and multivariate data. Learners will also be introduced to the differences between probability and non-probability sampling from larger populations, the idea of how sample estimates vary, and how inferences can be made about larger populations based on probability sampling."
   ]
  },
  {
   "cell_type": "code",
   "execution_count": 1,
   "metadata": {},
   "outputs": [],
   "source": [
    "import warnings\n",
    "warnings.filterwarnings(\"ignore\")"
   ]
  },
  {
   "attachments": {},
   "cell_type": "markdown",
   "metadata": {},
   "source": [
    "## What is statistics?\n",
    "\n",
    "It's the subject that encompasses all aspects of learning from data. So, as a methodology, we're talking about the tools, the methods to allow us to work with data to understand that data. Now statisticians apply and develop data analysis methods and we're constantly seeking to understand their properties. \n",
    "\n",
    "\n",
    "## Variable types:\n",
    "#### Quantitative Variables:\n",
    " - Numerical, Measurable quantities in which arithmetic operations often make sense\n",
    " - Continuous - could take on any value within an interval, many possible values\n",
    " - Discrete - countable value, finite number of values\n",
    " \n",
    "For example: Quantitative variables are numeric, measurable quantities - such as time. The variable is continuous because it can take on a very large range of values. An employee's commute time could be 20 minutes, 47.5 minutes, or a broad range of other options. Quantitative discrete variables are measurable quantities with a small set of countable values. Here, we are measuring the number of meetings attended in a single day and realistically you can only attend so many scheduled meetings in one workday (probably somewhere between 0 and 10 or so).\n",
    "\n",
    "#### Categorical (or Qualitative) Variables:\n",
    " - Classifies indivuals or items into different groups\n",
    " - Ordinary - groups have an order or ranking\n",
    " - Nominal - groups are merely names, no ranking\n",
    " \n",
    "For example: Nominal variables consist of groups or names in which there is no inherent ordering. Here, employees can be grouped by the specific mode of transportation and these groups have no inherent ranking or ordering. Ordinal variables consist of groups or names with an inherent ordering or ranking. Here, employees group their satisfaction into one of five categories and these categories have a specific ranking.\n",
    "\n",
    "#### Types of Research studies:\n",
    "- **Exploratory** vs **Confirmatory** studies\n",
    "- **Comparative** vs **Non-Comparative** studies\n",
    "- **Observational** studies vs **Experiments**\n",
    "\n",
    "**Confirmatory**: Scientific method ~ specify **falsifiable hypothesis**, then test it <span>&#8594;</span>\n",
    " collect dara to address single pre-specified question\n",
    "\n",
    "\n",
    "**Exploratory**: Collect and analyze data without first pre-specifying question\n",
    "\n",
    "\n",
    "**Non-Comparative**: Estimaiting or predicting absolute quantities ~ not (excplicitly) comparative\n",
    "\n",
    "**Observational**: arise \"naturally\", contrasts based on \"self-selection\" of units into groups\n",
    "\n",
    "**Experiments**: involve manipulation or assignment <span>&#8594;</span> experimenter deliberately treats different units in different ways\n",
    "\n",
    "\n",
    "**Power analysis** is a process by which we can assess whether a given study design is likely to yield meaningful findings. How power is calculated depends on the analysis that's going to be performed.\n",
    "\n",
    "\n",
    "**Bias** is another issue that can result when the measurements are systematically off-target, or perhaps it's the sample that's not representative of the population of interest. Bias can be a problem in any type of study, but observational studies are a little bit more vulnerable to it.\n",
    "\n",
    "\n",
    "#### Data management and manipulation\n",
    "**Data management** refers to all steps of data processing that occur after the data are collected but before the actual data analysis.\n",
    "\n",
    "Most statistical software operates predominantly on rectangular arrays of data in which the rows represent cases and the columns represent **variables**. In most statistical analysis, the cases represent individual units in the population of interest, although in some settings the distinction between cases and variables is not very clear.\n",
    "\n",
    "**A Typical Rectangular Data Set**\n",
    "Data for a study on medical expenditures might appear as seen in the image below. In addition to the subject ID, the variables are “Age”, “State” (of residence), and (medical) “Expenditures.\"\n",
    "\n",
    "<table>\n",
    "  <tr>\n",
    "    <th>ID</th>\n",
    "    <th>Age</th>\n",
    "    <th>State</th>\n",
    "      <th>Expenditures</th>\n",
    "  </tr>\n",
    "      <tr>\n",
    "    <td>132414</td>\n",
    "    <td>33</td>\n",
    "    <td>OK</td>\n",
    "    <td>375</td>\n",
    "  </tr>\n",
    "  <tr>\n",
    "    <td>454543</td>\n",
    "    <td>25</td>\n",
    "    <td>LA</td>\n",
    "     <td>137</td>\n",
    "  </tr>\n",
    "  <tr>\n",
    "    <td>232134</td>\n",
    "    <td>21</td>\n",
    "    <td>CA</td>\n",
    "     <td>272</td>\n",
    "  </tr>\n",
    "</table>\n",
    "\n",
    "\n",
    "#### Best Practices for Data Management\n",
    "- Never modify the source data files (you want to preserve a record of the data as you received it).\n",
    "\n",
    "- Write a script (e.g. a Python program) to generate your analysis files from the source data files.\n",
    "\n",
    "Advantages of this approach: If new source data arrives, the analysis files can be updated using the script. Also, complex data management can be reproduced and is documented through the code in the script.\n",
    "\n",
    "- Name variables with brief interpretable names.\n",
    "\n",
    "- Short variable names convey too little meaning, and very long names are awkward to use in complex expressions\n",
    "\n",
    "- Variable names consisting only of letters (a-z, case sensitive), numbers (not as the first character) and the underscore character (_) will be handled easily by most statistical software.\n",
    "\n",
    "- Whitespace in variable names is allowed in Python/Pandas, but confuses analysis based on formulas. To avoid this, use (for example) \"birth_date\" instead of \"birth date\".\n",
    "\n",
    "- Most statistical software will treat blank, “NA”, or “.” as a missing value.\n",
    "\n",
    "#### Spreadsheet Software\n",
    "- Spreadsheet software can be useful for getting a quick overview of a data set, but is quite limited for more advanced data management and analysis.\n",
    "\n",
    "- Font style and text color in a spreadsheet are generally not interpretable by statistical software so should not be used to encode important information.\n",
    "\n",
    "- Spreadsheet graphs and charts will generally be ignored when importing spreadsheet data into statistical software.\n",
    "\n",
    "- Each sheet in a spreadsheet workbook is usually imported as a separate dataset.\n",
    "\n",
    "- Python can read most Excel files directly, but may struggle with large, complex, or very old files.\n",
    "\n",
    "- Text/CSV is a better choice than spreadsheet formats (e.g. .xlsx) for data exchange and archiving.\n",
    "\n",
    "\n",
    "#### Databases and Other Tools\n",
    "The explosion of interest in data science and large-scale data analysis is leading to a lot of innovation and development of new tools for data management.\n",
    "\n",
    "- Database software and tools (e.g. SQL) can be very useful for large-scale data management. Some statistical software can read data directly from a database.  Another approach is to construct a text data file from a database e.g. using SQL.\n",
    "\n",
    "- HDF5, Apache Parquet, and Apache Arrow are open-source standards for large binary datasets.  Using these formats saves processing time relative to text/csv because fewer conversions are performed when reading and writing the data. \n",
    "\n",
    "- Hadoop and Spark are two popular tools for manipulating very large datasets.\n",
    "\n",
    "#### Data Files for Storage and Exchange\n",
    "Text/CSV is currently the most universal format for data exchange.\n",
    "\n",
    "- The data in a CSV file is “delimited”, usually by a comma or a tab.\n",
    "\n",
    "- Large data sets can be saved in compressed form (e.g. using “gzip”) and read into statistical software directly from the compressed file.  This allows the data to be read much faster, and reduces storage space.\n",
    "\n",
    "- Some statistical software packages have proprietary binary file formats (e.g. SAS7BDAT for SAS or DTA for Stata).  These can usually be read directly into Python/Pandas but in some cases challenges arise. Formats like XML and JSON are useful for non-rectangular data but tend to produce larger files that are slower to read and process.\n",
    "\n",
    "\n",
    "## Using Python to read data files and explore their contents\n",
    "\n",
    "This notebook demonstrates using the [Pandas](http://pandas.pydata.org) data processing library to read a dataset into Python, and obtain a basic understanding of its contents.\n",
    "\n",
    "Note that Python by itself is a general-purpose programming language and does not provide high-level data processing capabilities.  The Pandas library was developed to meet this need.  Pandas is the most popular Python library for data manipulation, and we will use it extensively in this course.\n",
    "\n",
    "In addition to Pandas, we will also make use of the following Python libraries\n",
    "\n",
    "* [Numpy](http://www.numpy.org) is a library for working with arrays of data\n",
    "\n",
    "* [Matplotlib](https://matplotlib.org) is a library for making graphs\n",
    "\n",
    "* [Seaborn](https://seaborn.pydata.org) is a higher-level interface to Matplotlib that can be used to simplify many graphing tasks\n",
    "\n",
    "* [Statsmodels](https://www.statsmodels.org/stable/index.html) is a library that implements many statistical techniques\n",
    "\n",
    "* [Scipy](https://www.scipy.org) is a library of techniques for numerical and scientific computing\n"
   ]
  },
  {
   "cell_type": "code",
   "execution_count": 2,
   "metadata": {},
   "outputs": [],
   "source": [
    "import pandas as pd"
   ]
  },
  {
   "cell_type": "markdown",
   "metadata": {},
   "source": [
    "### Reading a data file\n",
    "\n",
    "We will be working with the NHANES (National Health and Nutrition Examination Survey) data from the 2015-2016 wave, which has been discussed earlier in this course.  The raw data for this study are available here:\n",
    "\n",
    "https://wwwn.cdc.gov/nchs/nhanes/Default.aspx\n",
    "\n",
    "As in many large studies, the NHANES data are spread across multiple files.  The NHANES files are stored in [SAS transport](https://v8doc.sas.com/sashtml/files/z0987199.htm) (Xport) format.  This is a somewhat obscure format, and while Pandas is perfectly capable of reading the NHANES data directly from the xport files, accomplishing this task is a more advanced topic than we want to get into here.  Therefore, for this course we have prepared some merged datasets in text/csv format.\n",
    "\n",
    "Pandas is a large and powerful library.  Here we will only use a few of its basic features.  The main data structure that Pandas works with is called a \"data frame\".  This is a two-dimensional table of data in which the rows typically represent cases (e.g. NHANES subjects), and the columns represent variables.  Pandas also has a one-dimensional data structure called a `Series` that we will encounter occasionally.\n",
    "\n",
    "Pandas has a variety of functions named with the pattern '`read_xxx`' for reading data in different formats into Python.  Right now we will focus on reading '`csv`' files, so we are using the '`read_csv`' function, which can read csv (and \"tsv\") format files that are exported from spreadsheet software like Excel.  The '`read_csv`' function by default expects the first row of the data file to contain column names.  \n",
    "\n",
    "Using '`read_csv`' in its default mode is fairly straightforward.  There are many options to '`read_csv`' that are useful for handling less-common situations.  For example, you would use the option `sep='\\t'` instead of the default `sep=','` if the fields of your data file are delimited by tabs instead of commas.  See [here](https://pandas.pydata.org/pandas-docs/stable/generated/pandas.read_csv.html) for the full documentation for '`read_csv`'.\n",
    "\n",
    "Pandas can read a data file over the internet when provided with a URL, which is what we will do below.  In the Python script we will name the data set '`da`', i.e. this is the name of the Python variable that will hold the data frame after we have loaded it. \n",
    "\n",
    "The variable '`url`' holds a string (text) value, which is the internet URL where the data are located.  If you have the data file in your local filesystem, you can also use '`read_csv`' to read the data from this file.  In this case you would pass a file path instead of a URL, e.g. `pd.read_csv(\"my_file.csv\")` would read a file named `my_file.csv` that is located in your current working directory."
   ]
  },
  {
   "cell_type": "code",
   "execution_count": 3,
   "metadata": {},
   "outputs": [],
   "source": [
    "url = \"dataset/nhanes_2015_2016.csv\"\n",
    "da = pd.read_csv(url)"
   ]
  },
  {
   "cell_type": "code",
   "execution_count": 4,
   "metadata": {},
   "outputs": [
    {
     "data": {
      "text/plain": [
       "(5735, 28)"
      ]
     },
     "execution_count": 4,
     "metadata": {},
     "output_type": "execute_result"
    }
   ],
   "source": [
    "da.shape"
   ]
  },
  {
   "cell_type": "markdown",
   "metadata": {},
   "source": [
    "Based on what we see below, the data set being read here has 5735 rows, corresponding to 5735 people in this wave of the NHANES study, and 28 columns, corresponding to 28 variables in this particular data file.\n",
    "\n",
    "These names correspond to variables in the NHANES study.  For example, `SEQN` is a unique identifier for one person, and `BMXWT` is the subject's weight in kilograms (\"BMX\" is the NHANES prefix for body measurements).  The variables in the NHANES data set are documented in a set of \"codebooks\" that are available on-line.  The codebooks for the 2015-2016 wave of NHANES can be found by following the links at the following page:\n",
    "\n",
    "https://wwwn.cdc.gov/nchs/nhanes/continuousnhanes/default.aspx?BeginYear=2015\n",
    "\n",
    "For convenience, direct links to some of the code books are included below:\n",
    "\n",
    "* [Demographics code book](https://wwwn.cdc.gov/Nchs/Nhanes/2015-2016/DEMO_I.htm)\n",
    "\n",
    "* [Body measures code book](https://wwwn.cdc.gov/Nchs/Nhanes/2015-2016/BMX_I.htm)\n",
    "\n",
    "* [Blood pressure code book](https://wwwn.cdc.gov/Nchs/Nhanes/2015-2016/BPX_I.htm)\n",
    "\n",
    "* [Alcohol questionaire code book](https://wwwn.cdc.gov/Nchs/Nhanes/2015-2016/ALQ_I.htm)\n",
    "\n",
    "* [Smoking questionaire code book](https://wwwn.cdc.gov/Nchs/Nhanes/2015-2016/SMQ_I.htm)"
   ]
  },
  {
   "cell_type": "code",
   "execution_count": 5,
   "metadata": {},
   "outputs": [
    {
     "data": {
      "text/plain": [
       "SEQN          int64\n",
       "ALQ101      float64\n",
       "ALQ110      float64\n",
       "ALQ130      float64\n",
       "SMQ020        int64\n",
       "RIAGENDR      int64\n",
       "RIDAGEYR      int64\n",
       "RIDRETH1      int64\n",
       "DMDCITZN    float64\n",
       "DMDEDUC2    float64\n",
       "DMDMARTL    float64\n",
       "DMDHHSIZ      int64\n",
       "WTINT2YR    float64\n",
       "SDMVPSU       int64\n",
       "SDMVSTRA      int64\n",
       "INDFMPIR    float64\n",
       "BPXSY1      float64\n",
       "BPXDI1      float64\n",
       "BPXSY2      float64\n",
       "BPXDI2      float64\n",
       "BMXWT       float64\n",
       "BMXHT       float64\n",
       "BMXBMI      float64\n",
       "BMXLEG      float64\n",
       "BMXARML     float64\n",
       "BMXARMC     float64\n",
       "BMXWAIST    float64\n",
       "HIQ210      float64\n",
       "dtype: object"
      ]
     },
     "execution_count": 5,
     "metadata": {},
     "output_type": "execute_result"
    }
   ],
   "source": [
    "da.dtypes"
   ]
  },
  {
   "cell_type": "markdown",
   "metadata": {},
   "source": [
    "As we see here, most of the variables have floating point or integer data type.  Unlike many data sets, NHANES does not use any text values in its data.  For example, while many datasets would use text labels like \"F\" or \"M\" to denote a subject's gender, this information is represented in NHANES with integer codes.  The actual meanings of these codes can be determined from the codebooks.  For example, the variable `RIAGENDR` contains each subject's gender, with male gender coded as `1` and female gender coded as `2`.  The `RIAGENDR` variable is part of the demographics component of NHANES, so this coding can be found in the demographics codebook.\n",
    "\n",
    "Variables like `BMXWT` which represent a quantitative measurement will typically be stored as floating point data values.\n",
    "\n",
    "### Slicing a data set\n",
    "\n",
    "As discussed above, a Pandas data frame is a rectangular data table, in which the rows represent cases and the columns represent variables.  One common manipulation of a data frame is to extract the data for one case or for one variable.  There are several ways to do this, as shown below.\n",
    "\n",
    "To extract all the values for one variable, the following three approaches are equivalent (\"DMDEDUC2\" here is an NHANES variable containing a person's educational attainment).  In these four lines of code, we are assigning the data from one column of the data frame `da` into new variables `w`, `x`, `y`, and `z`.  The first three approaches access the variable by name.  The fourth approach accesses the variable by position (note that `DMDEDUC2` is in position 9 of the `da.columns` array shown above -- remember that Python counts starting at position zero)."
   ]
  },
  {
   "cell_type": "code",
   "execution_count": 6,
   "metadata": {},
   "outputs": [],
   "source": [
    "w = da[\"DMDEDUC2\"]\n",
    "x = da.loc[:, \"DMDEDUC2\"]\n",
    "y = da.DMDEDUC2\n",
    "z = da.iloc[:, 9]  # DMDEDUC2 is in column 9"
   ]
  },
  {
   "cell_type": "markdown",
   "metadata": {},
   "source": [
    "Another reason to slice a variable out of a data frame is so that we can then pass it into a function. For example, we can find the maximum value over all DMDEDUC2 values using any one of the following four lines of code:"
   ]
  },
  {
   "cell_type": "code",
   "execution_count": 7,
   "metadata": {},
   "outputs": [
    {
     "name": "stdout",
     "output_type": "stream",
     "text": [
      "9.0\n",
      "9.0\n",
      "9.0\n",
      "9.0\n"
     ]
    }
   ],
   "source": [
    "print(da[\"DMDEDUC2\"].max())\n",
    "print(da.loc[:, \"DMDEDUC2\"].max())\n",
    "print(da.DMDEDUC2.max())\n",
    "print(da.iloc[:, 9].max())"
   ]
  },
  {
   "cell_type": "code",
   "execution_count": 8,
   "metadata": {},
   "outputs": [
    {
     "name": "stdout",
     "output_type": "stream",
     "text": [
      "<class 'pandas.core.frame.DataFrame'>\n",
      "<class 'pandas.core.series.Series'>\n",
      "<class 'pandas.core.series.Series'>\n"
     ]
    }
   ],
   "source": [
    "print(type(da)) # The type of the variable\n",
    "print(type(da.DMDEDUC2)) # The type of one column of the data frame\n",
    "print(type(da.iloc[2,:])) # The type of one row of the data frame"
   ]
  },
  {
   "cell_type": "markdown",
   "metadata": {},
   "source": [
    "It may also be useful to slice a row (case) out of a data frame.  Just as a data frame's columns have names, the rows also have names, which are called the \"index\".  However many data sets do not have meaningful row names, so it is more common to extract a row of a data frame using its position.  The `iloc` method slices rows or columns from a data frame by position (counting from 0). The following line of code extracts row 3 from the data set (which is the fourth row, counting from zero)."
   ]
  },
  {
   "cell_type": "code",
   "execution_count": 9,
   "metadata": {},
   "outputs": [],
   "source": [
    "x = da.iloc[3, :]"
   ]
  },
  {
   "cell_type": "markdown",
   "metadata": {},
   "source": [
    "Another important data frame manipulation is to extract a contiguous block of rows or columns from the data set. Below we slice by position, in the first case taking row positions 3 and 4 (counting from 0, which are rows 4 and 5 counting from 1), and in the second case taking columns 2, 3, and 4 (columns 3, 4, 5 if counting from 1)."
   ]
  },
  {
   "cell_type": "code",
   "execution_count": 10,
   "metadata": {},
   "outputs": [],
   "source": [
    "x = da.iloc[3:5, :]\n",
    "y = da.iloc[:, 2:5]"
   ]
  },
  {
   "cell_type": "markdown",
   "metadata": {},
   "source": [
    "### Missing values\n",
    "When reading a dataset using Pandas, there is a set of values including 'NA', 'NULL', and 'NaN' that are taken by default to represent a missing value.  The full list of default missing value codes is in the '`read_csv`' documentation [here](https://pandas.pydata.org/pandas-docs/stable/generated/pandas.read_csv.html).  This document also explains how to change the way that '`read_csv`' decides whether a variable's value is missing.\n",
    "\n",
    "Pandas has functions called `isnull` and `notnull` that can be used to identify where the missing and non-missing values are located in a data frame.  Below we use these functions to count the number of missing and non-missing `DMDEDUC2` values."
   ]
  },
  {
   "cell_type": "code",
   "execution_count": 11,
   "metadata": {},
   "outputs": [
    {
     "name": "stdout",
     "output_type": "stream",
     "text": [
      "261\n",
      "5474\n"
     ]
    }
   ],
   "source": [
    "print(pd.isnull(da.DMDEDUC2).sum())\n",
    "print(pd.notnull(da.DMDEDUC2).sum())"
   ]
  },
  {
   "cell_type": "markdown",
   "metadata": {},
   "source": [
    "As an aside, note that there may be a variety of distinct forms of missingness in a variable, and in some cases it is important to keep these values distinct.  For example, in case of the DMDEDUC2 variable, in addition to the blank or NA values that Pandas considers to be missing, three people responded \"don't know\" (code value 9).  In many analyses, the \"don't know\" values will also be treated as missing, but at this point we are considering \"don't know\" to be a distinct category of observed response.\n",
    "\n",
    "### UNIVARIATE DATA\n",
    "\n",
    "\n",
    "In the second week of this course, we will be looking at graphical and numerical interpretations for one variable (univariate data). In particular, we will be creating and analyzing histograms, box plots, and numerical summaries of our data in order to give a basis of analysis for quantitative data and bar charts and pie charts for categorical data. A few key interpretations will be made about our numerical summaries such as mean, IQR, and standard deviation.\n",
    "\n",
    "#### Categorical Data\n"
   ]
  },
  {
   "cell_type": "markdown",
   "metadata": {},
   "source": [
    "Our task is to find the number or percentage of people based on their marital status using the column [DMDMARTL](https://wwwn.cdc.gov/Nchs/Nhanes/2015-2016/DEMO_I.htm#DMDMARTL)"
   ]
  },
  {
   "cell_type": "code",
   "execution_count": 12,
   "metadata": {},
   "outputs": [
    {
     "data": {
      "text/html": [
       "<div>\n",
       "<style scoped>\n",
       "    .dataframe tbody tr th:only-of-type {\n",
       "        vertical-align: middle;\n",
       "    }\n",
       "\n",
       "    .dataframe tbody tr th {\n",
       "        vertical-align: top;\n",
       "    }\n",
       "\n",
       "    .dataframe thead th {\n",
       "        text-align: right;\n",
       "    }\n",
       "</style>\n",
       "<table border=\"1\" class=\"dataframe\">\n",
       "  <thead>\n",
       "    <tr style=\"text-align: right;\">\n",
       "      <th></th>\n",
       "      <th>Count</th>\n",
       "      <th>Percentage</th>\n",
       "    </tr>\n",
       "    <tr>\n",
       "      <th>Martial Status</th>\n",
       "      <th></th>\n",
       "      <th></th>\n",
       "    </tr>\n",
       "  </thead>\n",
       "  <tbody>\n",
       "    <tr>\n",
       "      <th>1.0</th>\n",
       "      <td>2780.0</td>\n",
       "      <td>19.3%</td>\n",
       "    </tr>\n",
       "    <tr>\n",
       "      <th>2.0</th>\n",
       "      <td>792.0</td>\n",
       "      <td>5.5%</td>\n",
       "    </tr>\n",
       "    <tr>\n",
       "      <th>3.0</th>\n",
       "      <td>1737.0</td>\n",
       "      <td>12.1%</td>\n",
       "    </tr>\n",
       "    <tr>\n",
       "      <th>4.0</th>\n",
       "      <td>744.0</td>\n",
       "      <td>5.2%</td>\n",
       "    </tr>\n",
       "    <tr>\n",
       "      <th>5.0</th>\n",
       "      <td>5020.0</td>\n",
       "      <td>34.9%</td>\n",
       "    </tr>\n",
       "    <tr>\n",
       "      <th>6.0</th>\n",
       "      <td>3162.0</td>\n",
       "      <td>22.0%</td>\n",
       "    </tr>\n",
       "    <tr>\n",
       "      <th>77.0</th>\n",
       "      <td>154.0</td>\n",
       "      <td>1.1%</td>\n",
       "    </tr>\n",
       "  </tbody>\n",
       "</table>\n",
       "</div>"
      ],
      "text/plain": [
       "                 Count Percentage\n",
       "Martial Status                   \n",
       "1.0             2780.0      19.3%\n",
       "2.0              792.0       5.5%\n",
       "3.0             1737.0      12.1%\n",
       "4.0              744.0       5.2%\n",
       "5.0             5020.0      34.9%\n",
       "6.0             3162.0      22.0%\n",
       "77.0             154.0       1.1%"
      ]
     },
     "execution_count": 12,
     "metadata": {},
     "output_type": "execute_result"
    }
   ],
   "source": [
    "z = da.groupby(['DMDMARTL']).agg({'DMDMARTL': 'sum'}).rename(columns ={'DMDMARTL':'Count'})\n",
    "y = da.groupby(['DMDMARTL']).agg({'DMDMARTL': 'sum'}).apply(lambda x: 100*x/x.sum()).rename(columns ={'DMDMARTL':'Percentage'}).round(decimals=1).astype(str) + '%'\n",
    "frames = [z,y]\n",
    "w =pd.concat(frames,axis=1)\n",
    "w.index.names = ['Martial Status']\n",
    "w"
   ]
  },
  {
   "cell_type": "code",
   "execution_count": 13,
   "metadata": {},
   "outputs": [],
   "source": [
    "import matplotlib.pyplot as plt"
   ]
  },
  {
   "cell_type": "code",
   "execution_count": 14,
   "metadata": {},
   "outputs": [
    {
     "data": {
      "image/png": "[encoded data removed]",
      "text/plain": [
       "<Figure size 432x360 with 1 Axes>"
      ]
     },
     "metadata": {
      "needs_background": "light"
     },
     "output_type": "display_data"
    }
   ],
   "source": [
    "ax =w.plot(kind='bar', title='Marital Status', ylabel='Number of people',\n",
    "         xlabel='Code', color=(0.1, 0.1, 0.1, 0.1),  edgecolor='blue',figsize=(6, 5))\n",
    "\n",
    "\n",
    "ax.bar_label(ax.containers[0], label_type='edge', color='red', fontsize=12)\n",
    "\n",
    "plt.show()"
   ]
  },
  {
   "cell_type": "markdown",
   "metadata": {},
   "source": [
    "To get the sorted results,"
   ]
  },
  {
   "cell_type": "code",
   "execution_count": 15,
   "metadata": {},
   "outputs": [],
   "source": [
    "w.sort_values('Count',inplace=True)"
   ]
  },
  {
   "cell_type": "code",
   "execution_count": 16,
   "metadata": {},
   "outputs": [
    {
     "data": {
      "image/png": "[encoded data removed]",
      "text/plain": [
       "<Figure size 432x360 with 1 Axes>"
      ]
     },
     "metadata": {
      "needs_background": "light"
     },
     "output_type": "display_data"
    }
   ],
   "source": [
    "ax =w.plot(kind='bar', title='Marital Status', ylabel='Number of people',\n",
    "         xlabel='Code', color=(0.1, 0.1, 0.1, 0.1),  edgecolor='blue',figsize=(6, 5))\n",
    "\n",
    "\n",
    "ax.bar_label(ax.containers[0], label_type='edge', color='red', fontsize=12)\n",
    "\n",
    "plt.show()"
   ]
  },
  {
   "cell_type": "markdown",
   "metadata": {},
   "source": [
    "Result: Top 3 groups are Never married,Living with partner and Married. \n",
    "\n",
    "#### Quantative Data\n",
    "\n",
    "Histograms is different from bar charts. Bar charts are used for categorical data, whereas histograms are used for quantitative data.\n",
    "\n",
    "We will use [Kaggle's data](https://www.kaggle.com/datasets/kaggle/sf-salaries?resource=download) to understand the use of histogram."
   ]
  },
  {
   "cell_type": "code",
   "execution_count": 17,
   "metadata": {},
   "outputs": [],
   "source": [
    "url1 = \"dataset/Salaries.csv\"\n",
    "da1 = pd.read_csv(url1)"
   ]
  },
  {
   "cell_type": "code",
   "execution_count": 18,
   "metadata": {},
   "outputs": [],
   "source": [
    "from scipy.stats import norm\n",
    "import statistics\n",
    "import numpy as np"
   ]
  },
  {
   "cell_type": "code",
   "execution_count": 19,
   "metadata": {},
   "outputs": [
    {
     "data": {
      "image/png": "[encoded data removed]",
      "text/plain": [
       "<Figure size 432x288 with 1 Axes>"
      ]
     },
     "metadata": {
      "needs_background": "light"
     },
     "output_type": "display_data"
    }
   ],
   "source": [
    "mean = statistics.mean(da1[\"TotalPay\"])\n",
    "sd = statistics.stdev(da1[\"TotalPay\"])\n",
    "\n",
    "plt.plot(da1[\"TotalPay\"], norm.pdf(da1[\"TotalPay\"], mean, sd))\n",
    "plt.show()"
   ]
  },
  {
   "cell_type": "code",
   "execution_count": 20,
   "metadata": {},
   "outputs": [
    {
     "data": {
      "text/plain": [
       "Text(0.5, 1.0, 'San Francisco Salaries')"
      ]
     },
     "execution_count": 20,
     "metadata": {},
     "output_type": "execute_result"
    },
    {
     "data": {
      "image/png": "[encoded data removed]",
      "text/plain": [
       "<Figure size 432x288 with 1 Axes>"
      ]
     },
     "metadata": {
      "needs_background": "light"
     },
     "output_type": "display_data"
    }
   ],
   "source": [
    "plt.hist(da1[\"TotalPay\"],bins= 25)\n",
    "plt.xlabel('Salary')\n",
    "plt.ylabel('Frequency')\n",
    "plt.title('San Francisco Salaries')"
   ]
  },
  {
   "cell_type": "code",
   "execution_count": 21,
   "metadata": {},
   "outputs": [],
   "source": [
    "mu, std = norm.fit (da1[\"TotalPay\"]) # mean and standard deviation\n"
   ]
  },
  {
   "cell_type": "code",
   "execution_count": 22,
   "metadata": {},
   "outputs": [
    {
     "data": {
      "image/png": "[encoded data removed]",
      "text/plain": [
       "<Figure size 432x288 with 1 Axes>"
      ]
     },
     "metadata": {
      "needs_background": "light"
     },
     "output_type": "display_data"
    }
   ],
   "source": [
    "# Plot the histogram.\n",
    "plt.hist(da1[\"TotalPay\"], bins=25, density=True, alpha=0.6, color='b')\n",
    "  \n",
    "# Plot the PDF.\n",
    "xmin, xmax = plt.xlim()\n",
    "x = np.linspace(xmin, xmax, 100)\n",
    "p = norm.pdf(x, mu, std)\n",
    "  \n",
    "plt.plot(x, p, 'k', linewidth=2)\n",
    "title = \"Fit Values: {:.2f} and {:.2f}\".format(mu, std)\n",
    "plt.title(title)\n",
    "  \n",
    "plt.show()"
   ]
  },
  {
   "attachments": {},
   "cell_type": "markdown",
   "metadata": {},
   "source": [
    "From the figure, we can say that, the distribution of salaries in San Francisco is bimodal and skewed to the right,centered at about  80,000 with most of the data between 40,000 and 120,000, a range of roughly $600,000, and outliers are present on the higher end.\n",
    "\n",
    "<img src=\"image\\1.png\" alt=\"Histogram1\">\n",
    "\n",
    "<img src=\"image\\2.png\" alt=\"Histogram2\">\n",
    "\n",
    "\n",
    "#### Quantitative Data: Numerical Summaries\n",
    "\n",
    "Minimum, first quartile, median, third quartile, and maximum is the 5  Number summary. The minimum is just our smallest value. The first quartile often called the 25th percentile is where 25 percent of the data falls below that value. The median which is sometimes called the 50th percentile is where 50 percent falls below that value and the third quartile often called the 75th percentile is where 75 percent falls below that value and then finally, we have our maximum value.\n",
    "\n",
    "We can IQR or interquartile range  from it which is done by `IQR = Q3 – Q1`.\n",
    "\n",
    "Takeaway:\n",
    "For right-skewed distribution is going to cause our mean to be greater than our median and for left it would be opposite."
   ]
  },
  {
   "cell_type": "code",
   "execution_count": 23,
   "metadata": {},
   "outputs": [
    {
     "data": {
      "text/html": [
       "<div>\n",
       "<style scoped>\n",
       "    .dataframe tbody tr th:only-of-type {\n",
       "        vertical-align: middle;\n",
       "    }\n",
       "\n",
       "    .dataframe tbody tr th {\n",
       "        vertical-align: top;\n",
       "    }\n",
       "\n",
       "    .dataframe thead th {\n",
       "        text-align: right;\n",
       "    }\n",
       "</style>\n",
       "<table border=\"1\" class=\"dataframe\">\n",
       "  <thead>\n",
       "    <tr style=\"text-align: right;\">\n",
       "      <th></th>\n",
       "      <th>TotalPay</th>\n",
       "    </tr>\n",
       "  </thead>\n",
       "  <tbody>\n",
       "    <tr>\n",
       "      <th>count</th>\n",
       "      <td>148654.000000</td>\n",
       "    </tr>\n",
       "    <tr>\n",
       "      <th>mean</th>\n",
       "      <td>74768.321972</td>\n",
       "    </tr>\n",
       "    <tr>\n",
       "      <th>std</th>\n",
       "      <td>50517.005274</td>\n",
       "    </tr>\n",
       "    <tr>\n",
       "      <th>min</th>\n",
       "      <td>-618.130000</td>\n",
       "    </tr>\n",
       "    <tr>\n",
       "      <th>25%</th>\n",
       "      <td>36168.995000</td>\n",
       "    </tr>\n",
       "    <tr>\n",
       "      <th>50%</th>\n",
       "      <td>71426.610000</td>\n",
       "    </tr>\n",
       "    <tr>\n",
       "      <th>75%</th>\n",
       "      <td>105839.135000</td>\n",
       "    </tr>\n",
       "    <tr>\n",
       "      <th>max</th>\n",
       "      <td>567595.430000</td>\n",
       "    </tr>\n",
       "  </tbody>\n",
       "</table>\n",
       "</div>"
      ],
      "text/plain": [
       "            TotalPay\n",
       "count  148654.000000\n",
       "mean    74768.321972\n",
       "std     50517.005274\n",
       "min      -618.130000\n",
       "25%     36168.995000\n",
       "50%     71426.610000\n",
       "75%    105839.135000\n",
       "max    567595.430000"
      ]
     },
     "execution_count": 23,
     "metadata": {},
     "output_type": "execute_result"
    }
   ],
   "source": [
    "da1[[\"TotalPay\"]].describe()"
   ]
  },
  {
   "cell_type": "markdown",
   "metadata": {},
   "source": [
    "The median is what we call a robust estimate of the center, meaning it's not influenced by outliers. The standard deviation looks at how far away the values are from the mean (not from each other).\n",
    "\n",
    "\n",
    "**Task:**\n",
    "The standard deviation for the exam scores is 50517.005274 points. What is an appropriate interpretation of this standard deviation value?\n",
    "\n",
    "\n",
    "- On average, the money are about 50517.005274 points from the mean money. **The standard deviation is roughly the average distance that the values are from the mean.**\n",
    "\n",
    "\n",
    "if we know that we have a bell-shaped or normal distribution, and we know the mean and the standard deviation. We can use the empirical rule and our standard scores to help us get a nice frame of reference.\n",
    "\n",
    "#### What Is the Empirical Rule?\n",
    "The empirical rule, also referred to as the three-sigma rule or 68-95-99.7 rule, is a statistical rule which states that for a normal distribution, almost all observed data will fall within three standard deviations (denoted by σ) of the mean or average (denoted by µ).\n",
    "\n",
    "In particular, the empirical rule predicts that 68% of observations falls within the first standard deviation (µ ± σ), 95% within the first two standard deviations (µ ± 2σ), and 99.7% within the first three standard deviations (µ ± 3σ).\n",
    "\n",
    "**KEY TAKEAWAYS**\n",
    "- The Empirical Rule states that 99.7% of data observed following a normal distribution lies within 3 standard deviations of the mean.\n",
    "- Under this rule, 68% of the data falls within one standard deviation, 95% percent within two standard deviations, and 99.7% within three standard deviations from the mean.\n",
    "- Three-sigma limits that follow the empirical rule are used to set the upper and lower control limits in statistical quality control charts and in risk analysis such as VaR.\n",
    "\n",
    "<img src=\"image\\3.png\" alt=\"box1\">\n",
    "\n",
    "Min and Max are referred as Whiskers."
   ]
  },
  {
   "cell_type": "code",
   "execution_count": 26,
   "metadata": {},
   "outputs": [
    {
     "data": {
      "image/png": "[encoded data removed]",
      "text/plain": [
       "<Figure size 432x288 with 1 Axes>"
      ]
     },
     "metadata": {
      "needs_background": "light"
     },
     "output_type": "display_data"
    }
   ],
   "source": [
    "fig, ax = plt.subplots()\n",
    "ax.boxplot(da1[\"TotalPay\"])\n",
    "plt.show()"
   ]
  },
  {
   "cell_type": "markdown",
   "metadata": {},
   "source": [
    "Clearly, the distribution is skewed and outliers are also observed.\n",
    "\n",
    "<img src=\"image\\4.png\" alt=\"box2\">\n",
    "\n",
    "If we look at the age, OLD VS Young, the blood pressure is rising. And by looking at the size of the box plot, we can say that the old people BP higher, more spread out (disperse) compared to young.\n",
    "\n",
    "In comparison of gender, BP lower for old men vs old women.\n",
    "\n",
    "**Conclusion**:  A couple of ways of measuring spread through the interquartile range, which is the length of the box, and the overall range. Then, it even has an algorithm or rule for identifying potential outliers for some plots them separately. Boxplots can hide a few aspects of some shape. Histograms do a much better job at showing us the shape. But, boxplots displayed side by side are really useful for making comparisons when we have two or more sets of observations."
   ]
  },
  {
   "cell_type": "code",
   "execution_count": 29,
   "metadata": {},
   "outputs": [
    {
     "data": {
      "image/png": "[encoded data removed]",
      "text/plain": [
       "<Figure size 360x360 with 1 Axes>"
      ]
     },
     "metadata": {
      "needs_background": "light"
     },
     "output_type": "display_data"
    }
   ],
   "source": [
    "import seaborn as sns\n",
    "\n",
    "# Store the url string that hosts our .csv file\n",
    "url = \"dataset/Cartwheeldata.csv\"\n",
    "\n",
    "# Read the .csv file and store it as a pandas Data Frame\n",
    "df = pd.read_csv(url)\n",
    "\n",
    "# Create Scatterplot\n",
    "sns.lmplot(x='Wingspan', y='CWDistance', data=df)\n",
    "\n",
    "plt.show()"
   ]
  },
  {
   "cell_type": "code",
   "execution_count": 30,
   "metadata": {},
   "outputs": [
    {
     "data": {
      "image/png": "[encoded data removed]",
      "text/plain": [
       "<Figure size 404.875x360 with 1 Axes>"
      ]
     },
     "metadata": {
      "needs_background": "light"
     },
     "output_type": "display_data"
    }
   ],
   "source": [
    "# Scatterplot arguments\n",
    "sns.lmplot(x='Wingspan', y='CWDistance', data=df,\n",
    "           fit_reg=False, # No regression line\n",
    "           hue='Gender')   # Color by evolution stage\n",
    "\n",
    "plt.show()"
   ]
  },
  {
   "cell_type": "code",
   "execution_count": 31,
   "metadata": {},
   "outputs": [
    {
     "data": {
      "image/png": "[encoded data removed]",
      "text/plain": [
       "<Figure size 432x288 with 1 Axes>"
      ]
     },
     "metadata": {
      "needs_background": "light"
     },
     "output_type": "display_data"
    }
   ],
   "source": [
    "# Construct Cartwheel distance plot\n",
    "sns.swarmplot(x=\"Gender\", y=\"CWDistance\", data=df)\n",
    "\n",
    "plt.show()"
   ]
  },
  {
   "cell_type": "code",
   "execution_count": 32,
   "metadata": {},
   "outputs": [
    {
     "data": {
      "image/png": "[encoded data removed]",
      "text/plain": [
       "<Figure size 432x288 with 1 Axes>"
      ]
     },
     "metadata": {
      "needs_background": "light"
     },
     "output_type": "display_data"
    }
   ],
   "source": [
    "sns.boxplot(data=df.loc[:, [\"Age\", \"Height\", \"Wingspan\", \"CWDistance\", \"Score\"]])\n",
    "\n",
    "plt.show()"
   ]
  },
  {
   "cell_type": "code",
   "execution_count": 33,
   "metadata": {},
   "outputs": [
    {
     "data": {
      "image/png": "[encoded data removed]",
      "text/plain": [
       "<Figure size 432x288 with 1 Axes>"
      ]
     },
     "metadata": {
      "needs_background": "light"
     },
     "output_type": "display_data"
    }
   ],
   "source": [
    "# Male Boxplot\n",
    "sns.boxplot(data=df.loc[df['Gender'] == 'M', [\"Age\", \"Height\", \"Wingspan\", \"CWDistance\", \"Score\"]])\n",
    "\n",
    "plt.show()"
   ]
  },
  {
   "cell_type": "code",
   "execution_count": 34,
   "metadata": {},
   "outputs": [
    {
     "data": {
      "image/png": "[encoded data removed]",
      "text/plain": [
       "<Figure size 432x288 with 1 Axes>"
      ]
     },
     "metadata": {
      "needs_background": "light"
     },
     "output_type": "display_data"
    }
   ],
   "source": [
    "# Male Boxplot\n",
    "sns.boxplot(data=df.loc[df['Gender'] == 'F', [\"Score\"]])\n",
    "\n",
    "plt.show()"
   ]
  },
  {
   "cell_type": "code",
   "execution_count": 35,
   "metadata": {},
   "outputs": [
    {
     "data": {
      "image/png": "[encoded data removed]",
      "text/plain": [
       "<Figure size 432x288 with 1 Axes>"
      ]
     },
     "metadata": {
      "needs_background": "light"
     },
     "output_type": "display_data"
    }
   ],
   "source": [
    "# Distribution Plot (a.k.a. Histogram)\n",
    "sns.distplot(df.CWDistance)\n",
    "\n",
    "plt.show()"
   ]
  },
  {
   "cell_type": "code",
   "execution_count": 36,
   "metadata": {},
   "outputs": [
    {
     "data": {
      "image/png": "[encoded data removed]",
      "text/plain": [
       "<Figure size 432x288 with 1 Axes>"
      ]
     },
     "metadata": {
      "needs_background": "light"
     },
     "output_type": "display_data"
    }
   ],
   "source": [
    "# Count Plot (a.k.a. Bar Plot)\n",
    "sns.countplot(x='Gender', data=df)\n",
    " \n",
    "plt.xticks(rotation=-45)\n",
    "\n",
    "plt.show()"
   ]
  },
  {
   "cell_type": "code",
   "execution_count": null,
   "metadata": {},
   "outputs": [],
   "source": []
  }
 ],
 "metadata": {
  "kernelspec": {
   "display_name": "Python 3 (ipykernel)",
   "language": "python",
   "name": "python3"
  },
  "language_info": {
   "codemirror_mode": {
    "name": "ipython",
    "version": 3
   },
   "file_extension": ".py",
   "mimetype": "text/x-python",
   "name": "python",
   "nbconvert_exporter": "python",
   "pygments_lexer": "ipython3",
   "version": "3.7.7"
  }
 },
 "nbformat": 4,
 "nbformat_minor": 4
}
