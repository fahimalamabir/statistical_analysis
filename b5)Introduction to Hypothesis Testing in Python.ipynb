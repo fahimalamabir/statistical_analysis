{
 "cells": [
  {
   "cell_type": "markdown",
   "metadata": {},
   "source": [
    "# Hypothesis Testing\n",
    "\n",
    "Hypothesis testing is a critical tool in determing what the value of a parameter could be.\n",
    "\n",
    "The basis of testing has two attributes:\n",
    "\n",
    "**Null Hypothesis: $H_0$**\n",
    "\n",
    "**Alternative Hypothesis: $H_a$**\n",
    "\n",
    "The tests we have discussed in lecture are:\n",
    "\n",
    "* One Population Proportion\n",
    "* Difference in Population Proportions\n",
    "* One Population Mean\n",
    "* Difference in Population Means\n",
    "\n",
    "### Setting Up a Test for a Population Proportion\n",
    "\n",
    "Our research question, we were given the background information of in previous years 52 percent of parents believed that electronics and social media was the cause of their teenagers lack of sleep. Do more parents today believe that their teenagers lack of sleep is caused due to electronics and social media?\n",
    "\n",
    "\n",
    "So, with this background, we first want to define what our parameter of interest is.\n",
    "\n",
    "**Population** -parents with a teenager and that's ages 13 to 18,\n",
    "**parameter of interest** - p or population proportion.\n",
    "\n",
    "\n",
    "**Goal**: Test for a significant increase in the proportion of parents with a teenager who believe that electronics and social media is the cause for lack of sleep. \n",
    "\n",
    "\n",
    "*With any hypotheses test, you first want to start with your hypothesis, so you make these before you even collect any data and so that's to say you not influenced in what you believe.*\n",
    "\n",
    "First hypothesis or Null Hypothesis $$H_0: p = 0.52$$\n",
    "Alternative Hypothesis $$H_a: p ? 0.52$$\n",
    "'?' stands for >,< or = sign. Since we are focusing on significant increase, so in this case,\n",
    "Alternative Hypothesis $$H_a: p > 0.52$$\n",
    "where, p is the population proportion of parents with a teenager who believe that electronics and social media is the cause of their teen's lack of sleep.\n",
    "\n",
    "Finally, we want to set a $$\\alpha \\text{( or significant level)}=0.05 $$ A significance level which typically this is 0.05. This is basically the cut-off point of when we've found something to be significant.\n",
    "In this tutorial, I will introduce some functions that are extremely useful when calculating a t-statistic and p-value for a hypothesis test.\n",
    "\n",
    "**Survey Result:\n",
    "A random sample of 1,018 parents with the teenager was taken and 56% said they believe electronics and social media was the cause of their teenager's lack of sleep.**\n",
    "\n",
    "\n",
    "For further studies, we need some assumptions.\n",
    "\n",
    "First assumption: we need to check is we need a random sample of parents.\n",
    "Second: if our sample size is large enough and that ensures that we have our sample proportions being a normal distribution. \n",
    "\n",
    "\n",
    "How we check a large enough sample size?\n",
    "That is, $$ n.p ~\\text{be at least} ~10$$\n",
    "$$ n.(1-p) ~\\text{be at least}~ 10$$\n",
    "So, it's like were there at least 10 people that said yes, and were there at least 10 people that said no to the question.\n",
    "\n",
    "Of course we don't know what p is exactly. So, instead of using p,we're going to use a pseudo p, which is $p_0$ that is the null population proportion. \n",
    "\n",
    "So, $$ n.p ~\\text{be at least} ~10 \\rightarrow n.p_0$$\n",
    "$$ n.(1-p) ~\\text{be at least} ~10 \\rightarrow n.(1-p_0)$$\n",
    "\n",
    "Under the null hypothesis, we believe our population proportion to be this, which for our case is 0.52 and our n again was 1,018. \n",
    "So, $$ n.p_0 = 1018(0.52)= 529 $$\n",
    "$$ n.(1-p_0) = 1018(1-0.52) = 489$$\n",
    "\n",
    "So now, we've set up our hypotheses, we've checked our assumptions, and now we can go on to actually running the tests and seeing if we have significant results or not.We're going to calculate a test statistic, which a test statistic that is determined by taking our best estimate, subtracting the hypothesized estimate, and dividing by the standard error of the estimate.\n",
    "\n",
    "\n",
    "Let's quickly review the following ways to calculate a test statistic for the tests listed above.\n",
    "\n",
    "The equation is:\n",
    "\n",
    "$$\\frac{Best\\ Estimate - Hypothesized\\ Estimate}{Standard\\ Error\\ of\\ Estimate}$$ \n",
    "\n",
    "Where, \n",
    "$$Standard\\ Error \\ for\\ Population\\ Proportion (\\ Or \\ Estimate)= \\sqrt{\\frac{Population\\ Proportion * (1 - Population\\ Proportion)}{Number\\ Of\\ Observations}}$$\n",
    "\n",
    "We will use the examples from our lectures and use python functions to streamline our tests."
   ]
  },
  {
   "cell_type": "code",
   "execution_count": 1,
   "metadata": {},
   "outputs": [],
   "source": [
    "import statsmodels.api as sm\n",
    "import numpy as np\n",
    "import pandas as pd\n",
    "import scipy.stats.distributions as dist"
   ]
  },
  {
   "cell_type": "code",
   "execution_count": 2,
   "metadata": {},
   "outputs": [
    {
     "data": {
      "text/plain": [
       "2.5545334262132955"
      ]
     },
     "execution_count": 2,
     "metadata": {},
     "output_type": "execute_result"
    }
   ],
   "source": [
    "best_estimate = 0.56 # p_hat\n",
    "null_est = 0.52 #p_0\n",
    "n = 1018\n",
    "se_nu =  np.sqrt((null_est*(1-null_est))/n)\n",
    "z = (best_estimate-null_est)/se_nu\n",
    "z"
   ]
  },
  {
   "cell_type": "markdown",
   "metadata": {},
   "source": [
    "### One Population Proportion\n",
    "\n",
    "#### Research Question \n",
    "\n",
    "In previous years 52% of parents believed that electronics and social media was the cause of their teenager’s lack of sleep. Do more parents today believe that their teenager’s lack of sleep is caused due to electronics and social media? \n",
    "\n",
    "**Population**: Parents with a teenager (age 13-18)  \n",
    "**Parameter of Interest**: p  \n",
    "**Null Hypothesis:** p = 0.52  \n",
    "**Alternative Hypthosis:** p > 0.52 (note that this is a one-sided test)\n",
    "\n",
    "1018 Parents\n",
    "\n",
    "56% believe that their teenager’s lack of sleep is caused due to electronics and social media."
   ]
  },
  {
   "cell_type": "code",
   "execution_count": 3,
   "metadata": {},
   "outputs": [
    {
     "data": {
      "text/plain": [
       "(2.5545334262132955, 0.005316510991822442)"
      ]
     },
     "execution_count": 3,
     "metadata": {},
     "output_type": "execute_result"
    }
   ],
   "source": [
    "n = 1018\n",
    "pnull = .52\n",
    "phat = .56\n",
    "sm.stats.proportions_ztest(phat * n, n, pnull, alternative='larger', prop_var=0.52)"
   ]
  },
  {
   "attachments": {},
   "cell_type": "markdown",
   "metadata": {},
   "source": [
    "This Z test statistic means that our observed sample proportion is, 2.555 null standard errors above our hypothesized population proportion, and so we took our sample, we subtracted out the hypothesis, and then divided by the standard error, so we get the number of null standard errors.\n",
    "\n",
    "\n",
    "### Test Statistic Distribution\n",
    "\n",
    "This Z test statistic is another random varibale which has a distribution. This Ze test statistic will always follow a normal or N(0,1). This is due to us centering and scaling our original data. To be more clear, look at the equation below,\n",
    "\n",
    "$$\\frac{Best\\ Estimate - Hypothesized\\ Estimate}{Standard\\ Error\\ of\\ Estimate}$$ \n",
    "\n",
    "The numerator is centering data and denominator is scaling the data.\n",
    "\n",
    " So, now that we have the Z test statistic, we can find a p-value from it, \n",
    " \n",
    " ![imagew.png](image\\18.png)"
   ]
  },
  {
   "cell_type": "code",
   "execution_count": 5,
   "metadata": {},
   "outputs": [
    {
     "data": {
      "text/plain": [
       "(2.5545334262132955, 0.005316510991822442)"
      ]
     },
     "execution_count": 5,
     "metadata": {},
     "output_type": "execute_result"
    }
   ],
   "source": [
    "sm.stats.proportions_ztest(phat * n, n, pnull, alternative='larger', prop_var=0.52)"
   ]
  },
  {
   "cell_type": "markdown",
   "metadata": {},
   "source": [
    "To get the p value we can get from sm.stats.proportions_ztest and we got 0.0053 which is less than $\\alpha$, So that means, we can reject the null hypothesis $H_0$\n",
    "\n",
    "So, to summerize our finding, we can say,  there is sufficient evidence to conclude that the population proportion of parents with a teenager who believe that electronics and social media is the cause for lack of sleep is greater than 0.5, or greater than 52 percent. \n",
    "\n",
    "**So overall,there are four main steps to a hypothesis test.** \n",
    "  - we state our hypothesis and select a significance level, which is alpha, \n",
    "  - we check our assumptions, \n",
    "  - we then calculate a test statistic, and we get a p-value from that test statistic, \n",
    "  - and finally we draw a conclusion from that p-value.**"
   ]
  },
  {
   "cell_type": "markdown",
   "metadata": {},
   "source": [
    "### Difference in Population Proportions\n",
    "\n",
    "#### Research Question\n",
    "\n",
    "Is there a significant difference between the population proportions of parents of black children and parents of Hispanic children who report that their child has had some swimming lessons?\n",
    "\n",
    "**Populations**: All parents of black children age 6-18 and all parents of Hispanic children age 6-18  \n",
    "**Parameter of Interest**: p1 - p2, where p1 = black and p2 = hispanic  \n",
    "**Null Hypothesis:** p1 - p2 = 0  \n",
    "**Alternative Hypthosis:** p1 - p2 $\\neq$ = 0  \n",
    "\n",
    "\n",
    "91 out of 247 (36.8%) sampled parents of black children report that their child has had some swimming lessons.\n",
    "\n",
    "120 out of 308 (38.9%) sampled parents of Hispanic children report that their child has had some swimming lessons.\n",
    "\n",
    "Now, our question of interest is, we'd like to test for a significant difference in the population proportions of parents reporting that their child has had swimming lessons, and we'll do this at the 10 percent significance level."
   ]
  },
  {
   "cell_type": "code",
   "execution_count": 6,
   "metadata": {},
   "outputs": [
    {
     "data": {
      "text/plain": [
       "-0.020000000000000018"
      ]
     },
     "execution_count": 6,
     "metadata": {},
     "output_type": "execute_result"
    }
   ],
   "source": [
    "# This example implements the analysis from the \"Difference in Two Proportions\" lecture videos\n",
    "\n",
    "# Sample sizes\n",
    "n1 = 247\n",
    "n2 = 308\n",
    "\n",
    "# Number of parents reporting that their child had some swimming lessons\n",
    "y1 = 91\n",
    "y2 = 120\n",
    "\n",
    "# Estimates of the population proportions\n",
    "p1 = round(y1 / n1, 2)\n",
    "p2 = round(y2 / n2, 2)\n",
    "\n",
    "p1 - p2"
   ]
  },
  {
   "cell_type": "markdown",
   "metadata": {},
   "source": [
    "Meaning that the sample proportion for black children is smaller than the sample proportion for Hispanic children.\n",
    "\n",
    "Let's quickly review the following ways to calculate a test statistic for the tests listed above.\n",
    "\n",
    "The equation is:\n",
    "\n",
    "$$\\frac{Best\\ Estimate - Hypothesized\\ Estimate}{Standard\\ Error\\ of\\ Estimate}$$ \n",
    "\n",
    "Where, Best Estimate = p1 -p2, Hyp = 0 (0, since we choose equal population proportions)\n",
    "Where, \n",
    "$$Standard\\ Error \\ for\\ Population\\ Proportion (\\ Or \\ Estimate)= \\sqrt{\\frac{Population\\ Proportion * (1 - Population\\ Proportion)}{Number\\ Of\\ Observations}}$$\n",
    "\n",
    "where, ST error = $\\sqrt{\\hat{p}(1-\\hat{p})(\\frac{1}{n}+\\frac{1}{n})}$ and $\\hat{p} = \\frac{p_1+p_2}{n_1+n_2}$"
   ]
  },
  {
   "cell_type": "code",
   "execution_count": 9,
   "metadata": {},
   "outputs": [
    {
     "name": "stdout",
     "output_type": "stream",
     "text": [
      "Test Statistic\n",
      "-0.48\n"
     ]
    }
   ],
   "source": [
    "# Estimate of the combined population proportion\n",
    "phat = (y1 + y2) / (n1 + n2)\n",
    "\n",
    "# Estimate of the variance of the combined population proportion\n",
    "va = phat * (1 - phat)\n",
    "\n",
    "# Estimate of the standard error of the combined population proportion\n",
    "se = np.sqrt(va * (1 / n1 + 1 / n2))\n",
    "\n",
    "# Test statistic \n",
    "test_stat = (p1 - p2) / se  #z\n",
    "print(\"Test Statistic\")\n",
    "print(round(test_stat, 2))"
   ]
  },
  {
   "cell_type": "markdown",
   "metadata": {},
   "source": [
    "Our z is negative 0.48, and so that means that our observed difference in sample proportions is 0.48 estimated standard errors below our hypothesized mean of equal population proportions. That gives us a sense of where our sample falls. But let's look at what the p-value is and what that means. Because we have a z-test statistic, that will be distributed according to a standard normal distribution. In other words, it's a normal distribution. So, it'll be a bell-shaped distribution with the mean at zero and a standard deviation of one. "
   ]
  },
  {
   "cell_type": "code",
   "execution_count": 10,
   "metadata": {},
   "outputs": [
    {
     "name": "stdout",
     "output_type": "stream",
     "text": [
      "\n",
      "P-Value\n",
      "0.63\n"
     ]
    }
   ],
   "source": [
    "pvalue = 2*dist.norm.cdf(-np.abs(test_stat))\n",
    "\n",
    "print(\"\\nP-Value\")\n",
    "print(round(pvalue, 2))"
   ]
  },
  {
   "cell_type": "markdown",
   "metadata": {},
   "source": [
    "Now, based on our p-value of 0.63, we need to compare that to our alpha of 0.1 to decide what to do in this case. Now, 0.63 is larger than 0.1 and that means that we will fail to reject the null hypothesis. This doesn't mean that we accept the null hypothesis, but we can't reject it. Now, that again means that we don't have evidence against equal population proportions. So, our null hypothesis was that we have equal population proportions, and we don't have evidence against it. It doesn't mean that it's necessarily not the null hypothesis, you just don't have evidence against it. Formally, based on our sample and our p-value, we fail to reject the null hypothesis. In this case, we conclude that there is no significant difference between the population proportion of parents of Black and Hispanic children who report their child has had swimming lessons. In essence, this means it seems like those two population proportions are roughly equivalent."
   ]
  },
  {
   "cell_type": "markdown",
   "metadata": {},
   "source": [
    "### One Population Mean\n",
    "\n",
    "#### Research Question \n",
    "\n",
    "Is the average cartwheel distance (in inches) for adults \n",
    "more than 80 inches?\n",
    "\n",
    "**Population**: All adults  \n",
    "**Parameter of Interest**: $\\mu$, population mean cartwheel distance.\n",
    "**Null Hypothesis:** $\\mu$ = 80\n",
    "**Alternative Hypthosis:** $\\mu$ > 80\n",
    "\n",
    "25 Adults"
   ]
  },
  {
   "cell_type": "code",
   "execution_count": 13,
   "metadata": {},
   "outputs": [
    {
     "data": {
      "text/plain": [
       "count     25.000000\n",
       "mean      82.480000\n",
       "std       15.058552\n",
       "min       63.000000\n",
       "25%       70.000000\n",
       "50%       81.000000\n",
       "75%       92.000000\n",
       "max      115.000000\n",
       "Name: CWDistance, dtype: float64"
      ]
     },
     "execution_count": 13,
     "metadata": {},
     "output_type": "execute_result"
    }
   ],
   "source": [
    "df = pd.read_csv(\"dataset/Cartwheeldata.csv\")\n",
    "df.describe()['CWDistance']"
   ]
  },
  {
   "cell_type": "markdown",
   "metadata": {},
   "source": [
    "We got from above,\n",
    "\n",
    "$\\mu = 82.46$\n",
    "\n",
    "$\\sigma = 15.06$"
   ]
  },
  {
   "cell_type": "code",
   "execution_count": 14,
   "metadata": {},
   "outputs": [
    {
     "data": {
      "text/plain": [
       "(25, 82.48, 15.058552387264855)"
      ]
     },
     "execution_count": 14,
     "metadata": {},
     "output_type": "execute_result"
    }
   ],
   "source": [
    "n = len(df)\n",
    "mean = df[\"CWDistance\"].mean()\n",
    "sd = df[\"CWDistance\"].std()\n",
    "(n, mean, sd)"
   ]
  },
  {
   "cell_type": "code",
   "execution_count": 16,
   "metadata": {},
   "outputs": [
    {
     "data": {
      "text/plain": [
       "0.8234523266982027"
      ]
     },
     "execution_count": 16,
     "metadata": {},
     "output_type": "execute_result"
    }
   ],
   "source": [
    "null_h = 80\n",
    "t = (mean - null_h)/(sd/np.sqrt(n))\n",
    "t"
   ]
  },
  {
   "cell_type": "markdown",
   "metadata": {},
   "source": [
    "Our test statistic, our t statistic turned out to be 0.82."
   ]
  },
  {
   "cell_type": "code",
   "execution_count": 15,
   "metadata": {},
   "outputs": [
    {
     "data": {
      "text/plain": [
       "(0.8234523266982029, 0.20512540845395266)"
      ]
     },
     "execution_count": 15,
     "metadata": {},
     "output_type": "execute_result"
    }
   ],
   "source": [
    "sm.stats.ztest(df[\"CWDistance\"], value = 80, alternative = \"larger\")"
   ]
  },
  {
   "cell_type": "markdown",
   "metadata": {},
   "source": [
    "Since our P is much bigger than 0.05 significance level, weak evidence against the null and we fail to reject the null."
   ]
  },
  {
   "cell_type": "markdown",
   "metadata": {},
   "source": [
    "### Difference in Population Means\n",
    "\n",
    "#### Research Question \n",
    "\n",
    "Considering adults in the NHANES data, do males have a significantly higher mean Body Mass Index than females?\n",
    "\n",
    "**Population**: Adults in the NHANES data.  \n",
    "**Parameter of Interest**: $\\mu_1 - \\mu_2$, Body Mass Index.  \n",
    "**Null Hypothesis:** $\\mu_1 = \\mu_2$  \n",
    "**Alternative Hypthosis:** $\\mu_1 \\neq \\mu_2$\n",
    "\n",
    "2976 Females \n",
    "$\\mu_1 = 29.94$  \n",
    "$\\sigma_1 = 7.75$  \n",
    "\n",
    "2759 Male Adults  \n",
    "$\\mu_2 = 28.78$  \n",
    "$\\sigma_2 = 6.25$  \n",
    "\n",
    "$\\mu_1 - \\mu_2 = 1.16$"
   ]
  },
  {
   "cell_type": "code",
   "execution_count": 20,
   "metadata": {},
   "outputs": [
    {
     "data": {
      "text/html": [
       "<div>\n",
       "<style scoped>\n",
       "    .dataframe tbody tr th:only-of-type {\n",
       "        vertical-align: middle;\n",
       "    }\n",
       "\n",
       "    .dataframe tbody tr th {\n",
       "        vertical-align: top;\n",
       "    }\n",
       "\n",
       "    .dataframe thead th {\n",
       "        text-align: right;\n",
       "    }\n",
       "</style>\n",
       "<table border=\"1\" class=\"dataframe\">\n",
       "  <thead>\n",
       "    <tr style=\"text-align: right;\">\n",
       "      <th></th>\n",
       "      <th>SEQN</th>\n",
       "      <th>ALQ101</th>\n",
       "      <th>ALQ110</th>\n",
       "      <th>ALQ130</th>\n",
       "      <th>SMQ020</th>\n",
       "      <th>RIAGENDR</th>\n",
       "      <th>RIDAGEYR</th>\n",
       "      <th>RIDRETH1</th>\n",
       "      <th>DMDCITZN</th>\n",
       "      <th>DMDEDUC2</th>\n",
       "      <th>...</th>\n",
       "      <th>BPXSY2</th>\n",
       "      <th>BPXDI2</th>\n",
       "      <th>BMXWT</th>\n",
       "      <th>BMXHT</th>\n",
       "      <th>BMXBMI</th>\n",
       "      <th>BMXLEG</th>\n",
       "      <th>BMXARML</th>\n",
       "      <th>BMXARMC</th>\n",
       "      <th>BMXWAIST</th>\n",
       "      <th>HIQ210</th>\n",
       "    </tr>\n",
       "  </thead>\n",
       "  <tbody>\n",
       "    <tr>\n",
       "      <th>0</th>\n",
       "      <td>83732</td>\n",
       "      <td>1.0</td>\n",
       "      <td>NaN</td>\n",
       "      <td>1.0</td>\n",
       "      <td>1</td>\n",
       "      <td>1</td>\n",
       "      <td>62</td>\n",
       "      <td>3</td>\n",
       "      <td>1.0</td>\n",
       "      <td>5.0</td>\n",
       "      <td>...</td>\n",
       "      <td>124.0</td>\n",
       "      <td>64.0</td>\n",
       "      <td>94.8</td>\n",
       "      <td>184.5</td>\n",
       "      <td>27.8</td>\n",
       "      <td>43.3</td>\n",
       "      <td>43.6</td>\n",
       "      <td>35.9</td>\n",
       "      <td>101.1</td>\n",
       "      <td>2.0</td>\n",
       "    </tr>\n",
       "    <tr>\n",
       "      <th>1</th>\n",
       "      <td>83733</td>\n",
       "      <td>1.0</td>\n",
       "      <td>NaN</td>\n",
       "      <td>6.0</td>\n",
       "      <td>1</td>\n",
       "      <td>1</td>\n",
       "      <td>53</td>\n",
       "      <td>3</td>\n",
       "      <td>2.0</td>\n",
       "      <td>3.0</td>\n",
       "      <td>...</td>\n",
       "      <td>140.0</td>\n",
       "      <td>88.0</td>\n",
       "      <td>90.4</td>\n",
       "      <td>171.4</td>\n",
       "      <td>30.8</td>\n",
       "      <td>38.0</td>\n",
       "      <td>40.0</td>\n",
       "      <td>33.2</td>\n",
       "      <td>107.9</td>\n",
       "      <td>NaN</td>\n",
       "    </tr>\n",
       "    <tr>\n",
       "      <th>2</th>\n",
       "      <td>83734</td>\n",
       "      <td>1.0</td>\n",
       "      <td>NaN</td>\n",
       "      <td>NaN</td>\n",
       "      <td>1</td>\n",
       "      <td>1</td>\n",
       "      <td>78</td>\n",
       "      <td>3</td>\n",
       "      <td>1.0</td>\n",
       "      <td>3.0</td>\n",
       "      <td>...</td>\n",
       "      <td>132.0</td>\n",
       "      <td>44.0</td>\n",
       "      <td>83.4</td>\n",
       "      <td>170.1</td>\n",
       "      <td>28.8</td>\n",
       "      <td>35.6</td>\n",
       "      <td>37.0</td>\n",
       "      <td>31.0</td>\n",
       "      <td>116.5</td>\n",
       "      <td>2.0</td>\n",
       "    </tr>\n",
       "    <tr>\n",
       "      <th>3</th>\n",
       "      <td>83735</td>\n",
       "      <td>2.0</td>\n",
       "      <td>1.0</td>\n",
       "      <td>1.0</td>\n",
       "      <td>2</td>\n",
       "      <td>2</td>\n",
       "      <td>56</td>\n",
       "      <td>3</td>\n",
       "      <td>1.0</td>\n",
       "      <td>5.0</td>\n",
       "      <td>...</td>\n",
       "      <td>134.0</td>\n",
       "      <td>68.0</td>\n",
       "      <td>109.8</td>\n",
       "      <td>160.9</td>\n",
       "      <td>42.4</td>\n",
       "      <td>38.5</td>\n",
       "      <td>37.7</td>\n",
       "      <td>38.3</td>\n",
       "      <td>110.1</td>\n",
       "      <td>2.0</td>\n",
       "    </tr>\n",
       "    <tr>\n",
       "      <th>4</th>\n",
       "      <td>83736</td>\n",
       "      <td>2.0</td>\n",
       "      <td>1.0</td>\n",
       "      <td>1.0</td>\n",
       "      <td>2</td>\n",
       "      <td>2</td>\n",
       "      <td>42</td>\n",
       "      <td>4</td>\n",
       "      <td>1.0</td>\n",
       "      <td>4.0</td>\n",
       "      <td>...</td>\n",
       "      <td>114.0</td>\n",
       "      <td>54.0</td>\n",
       "      <td>55.2</td>\n",
       "      <td>164.9</td>\n",
       "      <td>20.3</td>\n",
       "      <td>37.4</td>\n",
       "      <td>36.0</td>\n",
       "      <td>27.2</td>\n",
       "      <td>80.4</td>\n",
       "      <td>2.0</td>\n",
       "    </tr>\n",
       "  </tbody>\n",
       "</table>\n",
       "<p>5 rows × 28 columns</p>\n",
       "</div>"
      ],
      "text/plain": [
       "    SEQN  ALQ101  ALQ110  ALQ130  SMQ020  RIAGENDR  RIDAGEYR  RIDRETH1  \\\n",
       "0  83732     1.0     NaN     1.0       1         1        62         3   \n",
       "1  83733     1.0     NaN     6.0       1         1        53         3   \n",
       "2  83734     1.0     NaN     NaN       1         1        78         3   \n",
       "3  83735     2.0     1.0     1.0       2         2        56         3   \n",
       "4  83736     2.0     1.0     1.0       2         2        42         4   \n",
       "\n",
       "   DMDCITZN  DMDEDUC2  ...  BPXSY2  BPXDI2  BMXWT  BMXHT  BMXBMI  BMXLEG  \\\n",
       "0       1.0       5.0  ...   124.0    64.0   94.8  184.5    27.8    43.3   \n",
       "1       2.0       3.0  ...   140.0    88.0   90.4  171.4    30.8    38.0   \n",
       "2       1.0       3.0  ...   132.0    44.0   83.4  170.1    28.8    35.6   \n",
       "3       1.0       5.0  ...   134.0    68.0  109.8  160.9    42.4    38.5   \n",
       "4       1.0       4.0  ...   114.0    54.0   55.2  164.9    20.3    37.4   \n",
       "\n",
       "   BMXARML  BMXARMC  BMXWAIST  HIQ210  \n",
       "0     43.6     35.9     101.1     2.0  \n",
       "1     40.0     33.2     107.9     NaN  \n",
       "2     37.0     31.0     116.5     2.0  \n",
       "3     37.7     38.3     110.1     2.0  \n",
       "4     36.0     27.2      80.4     2.0  \n",
       "\n",
       "[5 rows x 28 columns]"
      ]
     },
     "execution_count": 20,
     "metadata": {},
     "output_type": "execute_result"
    }
   ],
   "source": [
    "da = pd.read_csv(\"dataset/nhanes_2015_2016.csv\")\n",
    "da.head()"
   ]
  },
  {
   "cell_type": "code",
   "execution_count": 21,
   "metadata": {},
   "outputs": [],
   "source": [
    "females = da[da[\"RIAGENDR\"] == 2]\n",
    "male = da[da[\"RIAGENDR\"] == 1]"
   ]
  },
  {
   "cell_type": "code",
   "execution_count": 22,
   "metadata": {},
   "outputs": [
    {
     "data": {
      "text/plain": [
       "(2976, 29.939945652173996, 7.75331880954568)"
      ]
     },
     "execution_count": 22,
     "metadata": {},
     "output_type": "execute_result"
    }
   ],
   "source": [
    "n1 = len(females)\n",
    "mu1 = females[\"BMXBMI\"].mean()\n",
    "sd1 = females[\"BMXBMI\"].std()\n",
    "\n",
    "(n1, mu1, sd1)"
   ]
  },
  {
   "cell_type": "code",
   "execution_count": 23,
   "metadata": {},
   "outputs": [
    {
     "data": {
      "text/plain": [
       "(2759, 28.778072111846985, 6.252567616801485)"
      ]
     },
     "execution_count": 23,
     "metadata": {},
     "output_type": "execute_result"
    }
   ],
   "source": [
    "n2 = len(male)\n",
    "mu2 = male[\"BMXBMI\"].mean()\n",
    "sd2 = male[\"BMXBMI\"].std()\n",
    "\n",
    "(n2, mu2, sd2)"
   ]
  },
  {
   "cell_type": "code",
   "execution_count": 24,
   "metadata": {},
   "outputs": [
    {
     "data": {
      "text/plain": [
       "(6.1755933531383205, 6.591544431126401e-10)"
      ]
     },
     "execution_count": 24,
     "metadata": {},
     "output_type": "execute_result"
    }
   ],
   "source": [
    "sm.stats.ztest(females[\"BMXBMI\"].dropna(), male[\"BMXBMI\"].dropna())"
   ]
  },
  {
   "cell_type": "code",
   "execution_count": null,
   "metadata": {},
   "outputs": [],
   "source": []
  }
 ],
 "metadata": {
  "kernelspec": {
   "display_name": "Python 3 (ipykernel)",
   "language": "python",
   "name": "python3"
  },
  "language_info": {
   "codemirror_mode": {
    "name": "ipython",
    "version": 3
   },
   "file_extension": ".py",
   "mimetype": "text/x-python",
   "name": "python",
   "nbconvert_exporter": "python",
   "pygments_lexer": "ipython3",
   "version": "3.7.7"
  }
 },
 "nbformat": 4,
 "nbformat_minor": 2
}
