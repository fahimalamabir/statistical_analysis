{
 "cells": [
  {
   "cell_type": "markdown",
   "metadata": {},
   "source": [
    "## Statistical Inference with Confidence Intervals\n",
    "\n",
    "\n",
    "In this tutorial, we're going to review how to calculate confidence intervals of population proportions and means.\n",
    "\n",
    "To begin, let's go over some of the material from this week and why confidence intervals are useful tools when deriving insights from data.\n",
    "\n",
    "### Why Confidence Intervals?\n",
    "\n"
   ]
  },
  {
   "cell_type": "code",
   "execution_count": 2,
   "metadata": {},
   "outputs": [
    {
     "data": {
      "image/jpeg": "[encoded data removed]",
      "text/html": [
       "\n",
       "        <iframe\n",
       "            width=\"800\"\n",
       "            height=\"300\"\n",
       "            src=\"https://www.youtube.com/embed/TqOeMYtOc1w\"\n",
       "            frameborder=\"0\"\n",
       "            allowfullscreen\n",
       "        ></iframe>\n",
       "        "
      ],
      "text/plain": [
       "<IPython.lib.display.YouTubeVideo at 0x18b3ea94c08>"
      ]
     },
     "execution_count": 2,
     "metadata": {},
     "output_type": "execute_result"
    }
   ],
   "source": [
    "from IPython.display import YouTubeVideo\n",
    "\n",
    "YouTubeVideo('TqOeMYtOc1w', width=800, height=300)"
   ]
  },
  {
   "cell_type": "markdown",
   "metadata": {},
   "source": [
    "Confidence intervals are a calculated range or boundary around a parameter or a statistic that is supported mathematically with a certain level of confidence.  \n",
    "\n",
    "For example, in the lecture, we estimated, with 95% confidence, that the population proportion of parents with a toddler that use a car seat for all travel with their toddler was somewhere between 82.2% and 87.7%.\n",
    "\n",
    "This is *__different__* than having a 95% probability that the true population proportion is within our confidence interval.\n",
    "\n",
    "Essentially, if we were to repeat this process, 95% of our calculated confidence intervals would contain the true proportion.\n",
    "\n",
    "### How are Confidence Intervals Calculated?\n",
    "\n",
    "Our equation for calculating confidence intervals is as follows:\n",
    "\n",
    "$$Best\\ Estimate \\pm Margin\\ of\\ Error$$\n",
    "\n",
    "Where the *Best Estimate* is the **observed population proportion or mean** and the *Margin of Error* is the **t-multiplier**.\n"
   ]
  },
  {
   "cell_type": "markdown",
   "metadata": {},
   "source": [
    "**In a sample of 659 parents with a toddler, 540 stated they use a car set for all travel with their toddler. Calculate the 95% confidence interval.**"
   ]
  },
  {
   "cell_type": "code",
   "execution_count": 4,
   "metadata": {},
   "outputs": [
    {
     "name": "stdout",
     "output_type": "stream",
     "text": [
      "0.7900537499137914 0.8487929875672404\n"
     ]
    }
   ],
   "source": [
    "import numpy as np\n",
    "\n",
    "sample_size  = 659\n",
    "said_yes = 540\n",
    "p_hat = said_yes/ sample_size\n",
    "\n",
    "T_star = 1.96 # because of 95% confidence level\n",
    "\n",
    "se = np.sqrt((p_hat * (1 - p_hat))/sample_size)   # standard error\n",
    "print(p_hat-T_star*se,p_hat+ T_star*se)"
   ]
  },
  {
   "cell_type": "code",
   "execution_count": 27,
   "metadata": {},
   "outputs": [
    {
     "name": "stdout",
     "output_type": "stream",
     "text": [
      "0.36629350165772345 0.49370649834227653\n"
     ]
    }
   ],
   "source": [
    "p_hat = 0.43\n",
    "T_star = 1.96\n",
    "sample_size = 232\n",
    "se =np.sqrt((p_hat * (1 - p_hat))/sample_size)  \n",
    "print(p_hat-T_star*se,p_hat+ T_star*se)"
   ]
  },
  {
   "cell_type": "markdown",
   "metadata": {},
   "source": [
    "Observation:\n",
    "    Based on our sample of 659 parents with toddlers. With 95 percent confidence, we'd estimate between 79% and up to 85% percent of all parents report they use a car seat for all travel.\n"
   ]
  },
  {
   "cell_type": "markdown",
   "metadata": {},
   "source": [
    "Well, let's think about that a moment. **Does the interval we have here, at 79% to that 85%, does it contain the sample proportion of parents with toddlers who reported they use a car seat for all travel? Does it contain the sample proportion? Think about that. Is the sample proportion in this interval?**"
   ]
  },
  {
   "cell_type": "code",
   "execution_count": 10,
   "metadata": {},
   "outputs": [
    {
     "data": {
      "text/plain": [
       "0.8194233687405159"
      ]
     },
     "execution_count": 10,
     "metadata": {},
     "output_type": "execute_result"
    }
   ],
   "source": [
    "p_hat"
   ]
  },
  {
   "cell_type": "markdown",
   "metadata": {},
   "source": [
    "Of course it is. Most certainly is in the interval because we centered the interval at that best guess, that 81 percent, that was our best estimate.\n",
    "\n",
    "\n",
    "**Does our confidence interval contain the population proportion of all parents with toddlers who report they use a car seat for all travel? What did you think?**\n",
    "\n",
    "We would have to answer this as we don't know. In order for me to be able to say whether this answer would be a yes, it's in there or no, it's not, I would have to know the value of that population proportion. That population proportion is a fixed value but it still unknown. I don't know what it is. That's why we designed a study to be able to gather data that's representative, to be able to estimate its value. So, I cannot tell you whether this particular already made interval has the true proportion in it or not. So, that leads us to one way that might often be incorrectly interpreting that confidence level. \n",
    "\n",
    "\n",
    "We don't want to think of it as a chance or probability that there's a 95 percent chance the population proportion is in our interval that we just made. That intervals are already computed, its fixed. That population proportion, the true rate for our population is a fixed number too. We're trying to learn what it is but it ends up either being in between these two values or it's not. \n",
    "\n",
    "In some sense, the probability would either be one or zero. We just don't know which of those two answers it is.\n",
    "\n",
    "\n",
    "\n",
    "**The confidence level refers instead then to the confidence we have in the process we use to make our interval. Not as a probability after our interval was made but how confident we are about the statistical procedure that was used.**\n",
    "\n",
    "\n",
    "[The t-multiplier is calculated based on the degrees of freedom and desired confidence level](https://www.youtube.com/watch?v=DcWATePtE1s).  For samples with more than 30 observations and a confidence level of 95%, the t-multiplier is 1.96\n",
    "\n",
    "The equation to create a 95% confidence interval can also be shown as:\n",
    "\n",
    "$$Population\\ Proportion\\ or\\ Mean\\ \\pm (t-multiplier *\\ Standard\\ Error)$$\n",
    "\n",
    "Lastly, the Standard Error is calculated differenly for population proportion and mean:\n",
    "\n",
    "$$Standard\\ Error \\ for\\ Population\\ Proportion = \\sqrt{\\frac{Population\\ Proportion * (1 - Population\\ Proportion)}{Number\\ Of\\ Observations}}$$\n",
    "\n",
    "$$Standard\\ Error \\ for\\ Mean = \\frac{Standard\\ Deviation}{\\sqrt{Number\\ Of\\ Observations}}$$\n",
    "\n",
    "$$Conservative \\ Standard\\ Error  = \\frac{1}{2\\sqrt{Number\\ Of\\ Observations}}$$\n"
   ]
  },
  {
   "cell_type": "code",
   "execution_count": 5,
   "metadata": {},
   "outputs": [
    {
     "data": {
      "text/plain": [
       "0.01390952774409444"
      ]
     },
     "execution_count": 5,
     "metadata": {},
     "output_type": "execute_result"
    }
   ],
   "source": [
    "tstar = 1.96 # t-multiplier\n",
    "p = .85\n",
    "n = 659\n",
    "\n",
    "se = np.sqrt((p * (1 - p))/n)\n",
    "se"
   ]
  },
  {
   "cell_type": "code",
   "execution_count": 6,
   "metadata": {},
   "outputs": [
    {
     "data": {
      "text/plain": [
       "(0.8227373256215749, 0.8772626743784251)"
      ]
     },
     "execution_count": 6,
     "metadata": {},
     "output_type": "execute_result"
    }
   ],
   "source": [
    "lcb = p - tstar * se\n",
    "ucb = p + tstar * se\n",
    "(lcb, ucb)"
   ]
  },
  {
   "cell_type": "code",
   "execution_count": 12,
   "metadata": {},
   "outputs": [
    {
     "data": {
      "text/plain": [
       "0.019477234678290496"
      ]
     },
     "execution_count": 12,
     "metadata": {},
     "output_type": "execute_result"
    }
   ],
   "source": [
    "ce = 1/(2*np.sqrt(n)) # p = 0.5\n",
    "ce"
   ]
  },
  {
   "cell_type": "code",
   "execution_count": 14,
   "metadata": {},
   "outputs": [
    {
     "data": {
      "text/plain": [
       "(0.811045530643419, 0.888954469356581)"
      ]
     },
     "execution_count": 14,
     "metadata": {},
     "output_type": "execute_result"
    }
   ],
   "source": [
    "tstar = 2 #approx\n",
    "lcb = p - tstar * ce\n",
    "ucb = p + tstar * ce\n",
    "(lcb, ucb)"
   ]
  },
  {
   "cell_type": "markdown",
   "metadata": {},
   "source": [
    "## Sample size determination\n",
    "\n",
    "**Margin of Error** is only dependent on:\n",
    "    1) our confidence level (typically 95%)\n",
    "    2) our sample size\n",
    "    \n",
    "**So let's say that now what sample size would we need to have a 95% conservative confidence interval with a margin error of only 3%.**\n",
    "\n",
    "For 95% Confidence,\n",
    "\n",
    "$$Margin \\ of\\ Error  = \\frac{1}{\\sqrt{Number\\ Of\\ Observations}}$$\n",
    "\n",
    "If Margin of error is known,we can find the sample size as well."
   ]
  },
  {
   "cell_type": "code",
   "execution_count": 7,
   "metadata": {},
   "outputs": [],
   "source": [
    "import statsmodels.api as sm"
   ]
  },
  {
   "cell_type": "code",
   "execution_count": 8,
   "metadata": {},
   "outputs": [
    {
     "data": {
      "text/plain": [
       "(0.8227378265796143, 0.8772621734203857)"
      ]
     },
     "execution_count": 8,
     "metadata": {},
     "output_type": "execute_result"
    }
   ],
   "source": [
    "sm.stats.proportion_confint(n * p, n)"
   ]
  },
  {
   "cell_type": "markdown",
   "metadata": {},
   "source": [
    "Now, lets take our Cartwheel dataset introduced in lecture and calculate a confidence interval for our mean cartwheel distance:"
   ]
  },
  {
   "cell_type": "code",
   "execution_count": 36,
   "metadata": {},
   "outputs": [],
   "source": [
    "import pandas as pd\n",
    "\n",
    "df = pd.read_csv(\"dataset/Cartwheeldata.csv\")"
   ]
  },
  {
   "cell_type": "code",
   "execution_count": 37,
   "metadata": {},
   "outputs": [
    {
     "data": {
      "text/html": [
       "<div>\n",
       "<style scoped>\n",
       "    .dataframe tbody tr th:only-of-type {\n",
       "        vertical-align: middle;\n",
       "    }\n",
       "\n",
       "    .dataframe tbody tr th {\n",
       "        vertical-align: top;\n",
       "    }\n",
       "\n",
       "    .dataframe thead th {\n",
       "        text-align: right;\n",
       "    }\n",
       "</style>\n",
       "<table border=\"1\" class=\"dataframe\">\n",
       "  <thead>\n",
       "    <tr style=\"text-align: right;\">\n",
       "      <th></th>\n",
       "      <th>ID</th>\n",
       "      <th>Age</th>\n",
       "      <th>Gender</th>\n",
       "      <th>GenderGroup</th>\n",
       "      <th>Glasses</th>\n",
       "      <th>GlassesGroup</th>\n",
       "      <th>Height</th>\n",
       "      <th>Wingspan</th>\n",
       "      <th>CWDistance</th>\n",
       "      <th>Complete</th>\n",
       "      <th>CompleteGroup</th>\n",
       "      <th>Score</th>\n",
       "    </tr>\n",
       "  </thead>\n",
       "  <tbody>\n",
       "    <tr>\n",
       "      <th>0</th>\n",
       "      <td>1</td>\n",
       "      <td>56</td>\n",
       "      <td>F</td>\n",
       "      <td>1</td>\n",
       "      <td>Y</td>\n",
       "      <td>1</td>\n",
       "      <td>62.0</td>\n",
       "      <td>61.0</td>\n",
       "      <td>79</td>\n",
       "      <td>Y</td>\n",
       "      <td>1</td>\n",
       "      <td>7</td>\n",
       "    </tr>\n",
       "    <tr>\n",
       "      <th>1</th>\n",
       "      <td>2</td>\n",
       "      <td>26</td>\n",
       "      <td>F</td>\n",
       "      <td>1</td>\n",
       "      <td>Y</td>\n",
       "      <td>1</td>\n",
       "      <td>62.0</td>\n",
       "      <td>60.0</td>\n",
       "      <td>70</td>\n",
       "      <td>Y</td>\n",
       "      <td>1</td>\n",
       "      <td>8</td>\n",
       "    </tr>\n",
       "    <tr>\n",
       "      <th>2</th>\n",
       "      <td>3</td>\n",
       "      <td>33</td>\n",
       "      <td>F</td>\n",
       "      <td>1</td>\n",
       "      <td>Y</td>\n",
       "      <td>1</td>\n",
       "      <td>66.0</td>\n",
       "      <td>64.0</td>\n",
       "      <td>85</td>\n",
       "      <td>Y</td>\n",
       "      <td>1</td>\n",
       "      <td>7</td>\n",
       "    </tr>\n",
       "    <tr>\n",
       "      <th>3</th>\n",
       "      <td>4</td>\n",
       "      <td>39</td>\n",
       "      <td>F</td>\n",
       "      <td>1</td>\n",
       "      <td>N</td>\n",
       "      <td>0</td>\n",
       "      <td>64.0</td>\n",
       "      <td>63.0</td>\n",
       "      <td>87</td>\n",
       "      <td>Y</td>\n",
       "      <td>1</td>\n",
       "      <td>10</td>\n",
       "    </tr>\n",
       "    <tr>\n",
       "      <th>4</th>\n",
       "      <td>5</td>\n",
       "      <td>27</td>\n",
       "      <td>M</td>\n",
       "      <td>2</td>\n",
       "      <td>N</td>\n",
       "      <td>0</td>\n",
       "      <td>73.0</td>\n",
       "      <td>75.0</td>\n",
       "      <td>72</td>\n",
       "      <td>N</td>\n",
       "      <td>0</td>\n",
       "      <td>4</td>\n",
       "    </tr>\n",
       "  </tbody>\n",
       "</table>\n",
       "</div>"
      ],
      "text/plain": [
       "   ID  Age Gender  GenderGroup Glasses  GlassesGroup  Height  Wingspan  \\\n",
       "0   1   56      F            1       Y             1    62.0      61.0   \n",
       "1   2   26      F            1       Y             1    62.0      60.0   \n",
       "2   3   33      F            1       Y             1    66.0      64.0   \n",
       "3   4   39      F            1       N             0    64.0      63.0   \n",
       "4   5   27      M            2       N             0    73.0      75.0   \n",
       "\n",
       "   CWDistance Complete  CompleteGroup  Score  \n",
       "0          79        Y              1      7  \n",
       "1          70        Y              1      8  \n",
       "2          85        Y              1      7  \n",
       "3          87        Y              1     10  \n",
       "4          72        N              0      4  "
      ]
     },
     "execution_count": 37,
     "metadata": {},
     "output_type": "execute_result"
    }
   ],
   "source": [
    "df.head()"
   ]
  },
  {
   "cell_type": "code",
   "execution_count": 38,
   "metadata": {},
   "outputs": [],
   "source": [
    "mean = df[\"CWDistance\"].mean()\n",
    "sd = df[\"CWDistance\"].std()\n",
    "n = len(df)\n"
   ]
  },
  {
   "cell_type": "code",
   "execution_count": 39,
   "metadata": {},
   "outputs": [],
   "source": [
    "tstar = 2.064\n",
    "\n",
    "se = sd/np.sqrt(n)"
   ]
  },
  {
   "cell_type": "code",
   "execution_count": 40,
   "metadata": {},
   "outputs": [
    {
     "data": {
      "text/plain": [
       "(76.26382957453707, 88.69617042546294)"
      ]
     },
     "execution_count": 40,
     "metadata": {},
     "output_type": "execute_result"
    }
   ],
   "source": [
    "lcb = mean - tstar * se\n",
    "ucb = mean + tstar * se\n",
    "(lcb, ucb)"
   ]
  },
  {
   "cell_type": "code",
   "execution_count": 41,
   "metadata": {},
   "outputs": [
    {
     "data": {
      "text/plain": [
       "(76.57715593233026, 88.38284406766975)"
      ]
     },
     "execution_count": 41,
     "metadata": {},
     "output_type": "execute_result"
    }
   ],
   "source": [
    "sm.stats.DescrStatsW(df[\"CWDistance\"]).zconfint_mean()"
   ]
  },
  {
   "cell_type": "markdown",
   "metadata": {},
   "source": [
    "**What sample size would we need to have a 95% (conservative) confidence interval with a Margin of Error og only 3% (0.03)**\n",
    "MoE = 1/sqrt(n)\n",
    "\n",
    "n = (1/MoE)^2\n",
    "n = (1/0.03)^2\n",
    "n = 1/0.0009\n",
    "n = 1111.11\n",
    "\n",
    "**What if we want 3% MoE @99% Confidence?**\n",
    "p^ +- Z 1/(2*sqet(n))\n",
    "\n",
    "MoE = Z 1/(2*sqrt(n))\n",
    "\n",
    "n = (Z/(2 MoE))^2\n",
    "\n",
    "Z* = 2.576 (99%) MoE = 0.03\n",
    "\n",
    "Thus, n = 1843.27 n = 1844\n",
    "\n",
    "90% -> 1.645\n",
    "\n",
    "95% -> 1.96\n",
    "\n",
    "98% -> 2.326\n",
    "\n",
    "99% -> 2.576"
   ]
  },
  {
   "cell_type": "markdown",
   "metadata": {},
   "source": [
    "# Practice Quiz: All About Confidence Intervals\n",
    "\n",
    "\n",
    "1) Use the following background to answer the corresponding questions.\n",
    "\n",
    "Background: Information devices, such as smartphones, tablets, laptops, and E-readers, are widely used by Americans today. A survey conducted by Pew Research Center in January of 2018, asked a random sample of Americans to report which of these specific information devices they own. The study revealed that 53% of the Americans who were surveyed own a tablet (based on a random sample of 526 Americans). From these results, the 90% confidence interval for the population proportion of Americans who own a tablet was reported to be (0.4942, 0.5658).\n",
    "\n",
    "Which of the following corresponds to the value of 53%?\n",
    "\n",
    "Answer: Sample proportion ,Statistic, Estimate of the population proportion\n",
    "\n",
    "2) Use the following background to answer the corresponding questions.\n",
    "\n",
    "Background: Information devices, such as smartphones, tablets, laptops, and E-readers, are widely used by Americans today. A survey conducted by Pew Research Center in January of 2018, asked a random sample of Americans to report which of these specific information devices they own. The study revealed that 53% of the Americans who were surveyed own a tablet (based on a random sample of 526 Americans). From these results, the 90% confidence interval for the population proportion of Americans who own a tablet was reported to be (0.4942, 0.5658).\n",
    "\n",
    "Which of the following would be considered an appropriate interpretation of the given 90% confidence interval?\n",
    "\n",
    "Ans: With 90% confidence, we estimate that the population proportion of Americans who own a tablet is between 49.42% and 56.58%.\n",
    "\n",
    "3) \n",
    "Use the following background to answer the corresponding questions.\n",
    "\n",
    "Background: Information devices, such as smartphones, tablets, laptops, and E-readers, are widely used by Americans today. A survey conducted by Pew Research Center in January of 2018, asked a random sample of Americans to report which of these specific information devices they own. The study revealed that 53% of the Americans who were surveyed own a tablet (based on a random sample of 526 Americans). From these results, the 90% confidence interval for the population proportion of Americans who own a tablet was reported to be (0.4942, 0.5658).\n",
    "\n",
    "How would the width of a 95% confidence interval compare to that of the 90% interval given? \n",
    "\n",
    "Ans: wider\n",
    "\n",
    "4)\n",
    "Use the following background to answer the corresponding questions.\n",
    "\n",
    "Background: Information devices, such as smartphones, tablets, laptops, and E-readers, are widely used by Americans today. A survey conducted by Pew Research Center in January of 2018, asked a random sample of Americans to report which of these specific information devices they own. The study revealed that 53% of the Americans who were surveyed own a tablet (based on a random sample of 526 Americans). From these results, the 90% confidence interval for the population proportion of Americans who own a tablet was reported to be (0.4942, 0.5658).\n",
    "\n",
    "Which of the following best describes a confidence level in the context of the problem?\n",
    "\n",
    "Ans:\n",
    "If we repeated this study many times, each time producing a new sample (of the same\n",
    "size) from which a 90% confidence interval is computed, then 90% of the\n",
    "resulting confidence intervals would be expected to contain the population\n",
    "proportion of all Americans who own a tablet. \n",
    "\n",
    "5) Use the following background to answer the corresponding questions.\n",
    "\n",
    "Background: Information devices, such as smartphones, tablets, laptops, and E-readers, are widely used by Americans today. A survey conducted by Pew Research Center in January of 2018, asked a random sample of Americans to report which of these specific information devices they own. The study revealed that 53% of the Americans who were surveyed own a tablet (based on a random sample of 526 Americans). From these results, the 90% confidence interval for the population proportion of Americans who own a tablet was reported to be (0.4942, 0.5658).\n",
    "\n",
    "Based on the reported 90% confidence interval (and no additional calculations), does it appear that a majority of Americans own a tablet? Select the answer with the appropriate explanation.\n",
    "\n",
    "Ans: The whole interval must be above 50%.\n",
    "\n",
    "6) Use the following background to answer the corresponding questions.\n",
    "\n",
    "Background: Information devices, such as smartphones, tablets, laptops, and E-readers, are widely used by Americans today. A survey conducted by Pew Research Center in January of 2018, asked a random sample of Americans to report which of these specific information devices they own. The study revealed that 53% of the Americans who were surveyed own a tablet (based on a random sample of 526 Americans). From these results, the 90% confidence interval for the population proportion of Americans who own a tablet was reported to be (0.4942, 0.5658).\n",
    "\n",
    "Another researcher is looking to conduct a similar survey to find out the proportion of all Michigan residents own a tablet. What minimum sample size does the researcher need in order to create a 95% conservative confidence interval with a margin of error of no more than 3%? (Do not use the approximate value for \"a few\" - use the more precise standard value.)\n",
    "\n",
    "Ans: The researcher would need a sample of at least 1068 Michigan residents\n",
    "\n",
    "7) Use the following background to answer the corresponding questions.\n",
    "\n",
    "Background: Information devices, such as smartphones, tablets, laptops, and E-readers, are widely used by Americans today. A survey conducted by Pew Research Center in January of 2018, asked a random sample of Americans to report which of these specific information devices they own. The study revealed that 53% of the Americans who were surveyed own a tablet (based on a random sample of 526 Americans). From these results, the 90% confidence interval for the population proportion of Americans who own a tablet was reported to be (0.4942, 0.5658).\n",
    "\n",
    "Is the following an appropriate statement about the given 90% confidence interval? “We estimate that 53% of all Americans own a tablet with a 90% margin of error of 3.58%.”\n",
    "\n",
    "ans: Appropriate\n",
    "\n",
    "# Sample Size & Assumptions\n",
    "\n",
    "1) A poll was done at a public University asking undergraduate students whether they are an in state student or out of state student. A sample of 232 undergraduate students at the University were asked and it was revealed that 43% of students were from out of state. From the results, a 95% confidence interval was calculated to be (0.3663, 0.4937).\n",
    "\n",
    "Which of the following corresponds to the value of 43%? \n",
    "\n",
    "Ans: Statistic, Sample proportion, Estimate of the population proportion\n",
    "\n",
    "\n",
    "2) In order to make the above confidence interval researchers first had to check their assumptions. Select all the appropriate assumptions that are needed to create a one population proportion confidence interval.\n",
    "\n",
    "\n",
    "Ans:\n",
    " - The sample proportion comes from data that is considered a simple random sample\n",
    "- The number of respondents who replied \"out of state\" must be at least 10\n",
    "\n",
    "- The number of respondents who replied \"in state\" must be at least 10\n",
    "\n",
    "3) What is the margin of error for the given 95% confidence interval above?\n",
    "\n",
    "Ans: 0.0637\n",
    "\n",
    "4) A larger sample was taken and the same sample proportion was found. How would the width of the 95% confidence interval change from our initial interval?\n",
    "\n",
    "Ans: Shorten\n",
    "\n",
    "5) If the researcher would like to have their confidence interval be narrower, more precise, which of the following would achieve this?\n",
    "\n",
    "Ans: Change the confidence level to 90%\n",
    "\n",
    "6) Question 6\n",
    "What minimum sample size does the researcher need in order to create a 95% conservative confidence interval with a margin of error of no more than 4%?\n",
    "\n",
    "$$Margin \\ of\\ Error  = \\frac{1}{\\sqrt{Number\\ Of\\ Observations}}$$\n",
    "\n",
    "\n",
    "Ans: 601\n",
    "\n",
    "7) What minimum sample size does the researcher need in order to create a 98% conservative confidence interval with a margin of error of no more than 3%?\n",
    "\n",
    "Ans: 1503\n",
    "\n",
    "\n",
    "10) Based on the reported 95% confidence interval (and no additional calculations), does it appear there is a minority of undergraduate students at the University that are from out of state?\n",
    "\n",
    "Ans: \n",
    "\n",
    "Yes, because the entire interval is below 50%"
   ]
  },
  {
   "cell_type": "markdown",
   "metadata": {},
   "source": [
    "# Estimating a Difference in Population Proportions with Confidence\n",
    "\n",
    "Research question: what is the difference of population proportions of parents reporting that their children aged 6-18 have had some swimming lessons between white children and black children?\n",
    "\n",
    "\n",
    "Populations= All parents of white children age 6-18 and all parents of black children age 6-18.\n",
    "Parameter of Interest = Difference between population proportions (p1-p2)\n",
    "1=white, 2 = black\n",
    "\n",
    "Survey results:\n",
    "\n",
    "- A sample of 247 parents of black children,aged 6-18 was taken with 91 said that their child has had some swimming lessons.\n",
    "- A sample of 988 parents of white children aged 6-18, and we found that 543 said that their child has had some swimming lessons\n",
    "\n",
    "Now, it's hard to look at just those numbers and come up with a really clear answer to our question of what is the difference in the population proportions of children who have taken swimming lessons. So, what we'll want to do is look at confidence interval.\n",
    "\n",
    "$$\\hat{p_1}-\\hat{p_2} \\pm 1.96  \\sqrt{\\frac{\\hat{p_1}(1-\\hat{p_1})}{n_1}+\\frac{\\hat{p_2}(1-\\hat{p_2})}{n_2}} $$\n"
   ]
  },
  {
   "cell_type": "code",
   "execution_count": 31,
   "metadata": {},
   "outputs": [
    {
     "data": {
      "text/plain": [
       "0.5495951417004049"
      ]
     },
     "execution_count": 31,
     "metadata": {},
     "output_type": "execute_result"
    }
   ],
   "source": [
    "white_N = 988\n",
    "white_s = 543\n",
    "p1 = white_s/white_N\n",
    "p1"
   ]
  },
  {
   "cell_type": "code",
   "execution_count": 32,
   "metadata": {},
   "outputs": [
    {
     "data": {
      "text/plain": [
       "0.3684210526315789"
      ]
     },
     "execution_count": 32,
     "metadata": {},
     "output_type": "execute_result"
    }
   ],
   "source": [
    "bl_N = 247\n",
    "bl_s = 91\n",
    "p2 = bl_s/bl_N\n",
    "p2"
   ]
  },
  {
   "cell_type": "code",
   "execution_count": 33,
   "metadata": {},
   "outputs": [
    {
     "data": {
      "text/plain": [
       "0.18117408906882598"
      ]
     },
     "execution_count": 33,
     "metadata": {},
     "output_type": "execute_result"
    }
   ],
   "source": [
    "p1 - p2"
   ]
  },
  {
   "cell_type": "markdown",
   "metadata": {},
   "source": [
    " the parents of white children report that their child has had swimming lessons 18 percent more than the parents of black children. "
   ]
  },
  {
   "cell_type": "code",
   "execution_count": 34,
   "metadata": {},
   "outputs": [
    {
     "data": {
      "text/plain": [
       "0.06768670474707392"
      ]
     },
     "execution_count": 34,
     "metadata": {},
     "output_type": "execute_result"
    }
   ],
   "source": [
    "wd = (p1*(1-p1))/white_N\n",
    "bk = (p2*(1-p2))/bl_N\n",
    "\n",
    "se = 1.96* np.sqrt(wd+bk)\n",
    "se"
   ]
  },
  {
   "cell_type": "code",
   "execution_count": 35,
   "metadata": {},
   "outputs": [
    {
     "data": {
      "text/plain": [
       "(0.11348738432175207, 0.2488607938158999)"
      ]
     },
     "execution_count": 35,
     "metadata": {},
     "output_type": "execute_result"
    }
   ],
   "source": [
    "((p1-p2)-se,(p1-p2)+se)"
   ]
  },
  {
   "cell_type": "markdown",
   "metadata": {},
   "source": [
    "our confidence interval goes from about 11 percent to about 25 percent.With 95 percent confidence, the population proportion of parents with white children who have taken swimming lessons is roughly 11 percent to roughly 25 percent higher than the population proportion of parents with black children who have taken swimming lessons.\n",
    "\n",
    "# Estimating a Population Mean with Confidence\n",
    "\n",
    "Constructing a confidence  95% interval, confidence interval for this mean cartwheel distance for our population of all such adults"
   ]
  },
  {
   "cell_type": "code",
   "execution_count": 42,
   "metadata": {},
   "outputs": [],
   "source": [
    "X = df['CWDistance']"
   ]
  },
  {
   "cell_type": "code",
   "execution_count": 43,
   "metadata": {},
   "outputs": [
    {
     "data": {
      "text/plain": [
       "count     25.000000\n",
       "mean      82.480000\n",
       "std       15.058552\n",
       "min       63.000000\n",
       "25%       70.000000\n",
       "50%       81.000000\n",
       "75%       92.000000\n",
       "max      115.000000\n",
       "Name: CWDistance, dtype: float64"
      ]
     },
     "execution_count": 43,
     "metadata": {},
     "output_type": "execute_result"
    }
   ],
   "source": [
    "X.describe()"
   ]
  },
  {
   "cell_type": "markdown",
   "metadata": {},
   "source": [
    "Confidence interval\n",
    "Best estimate +- MoE\n",
    "Sample mean difference +- \"a few\" * estimated standard error\n",
    "\n",
    "$$\\bar{x} \\pm t^* (\\frac{s}{\\sqrt{n}})$$\n",
    "\n",
    "t comes from a t distribution with n-1 degrees of freedom.\n",
    "95% confidence\n",
    "n = 25 -> t = 2.064\n",
    "n = 1000 -> t = 1.962\n",
    "\n",
    "**t means we will have a slightly heavier tail and our confidence interval will be a little bit more conservative as we have estimated that standard error.**"
   ]
  },
  {
   "cell_type": "code",
   "execution_count": 49,
   "metadata": {},
   "outputs": [
    {
     "data": {
      "text/plain": [
       "array([96.38111585, 68.57888415])"
      ]
     },
     "execution_count": 49,
     "metadata": {},
     "output_type": "execute_result"
    }
   ],
   "source": [
    "Mean =  82.48 # xbar\n",
    "std = 15.06 #s\n",
    "n = 25 # observations\n",
    "tst = 2.064\n",
    "\n",
    "pm = np.array([+1, -1])\n",
    "moe =  tst*(std/np.sqrt(5))\n",
    "mean + pm * moe"
   ]
  },
  {
   "cell_type": "code",
   "execution_count": 50,
   "metadata": {},
   "outputs": [
    {
     "data": {
      "text/plain": [
       "13.901115848345412"
      ]
     },
     "execution_count": 50,
     "metadata": {},
     "output_type": "execute_result"
    }
   ],
   "source": [
    "moe"
   ]
  },
  {
   "cell_type": "markdown",
   "metadata": {},
   "source": [
    "The population mean cartwheel distance for all adults is estimated to be between the two numbers that we calculated\n"
   ]
  },
  {
   "cell_type": "code",
   "execution_count": null,
   "metadata": {},
   "outputs": [],
   "source": []
  }
 ],
 "metadata": {
  "kernelspec": {
   "display_name": "Python 3 (ipykernel)",
   "language": "python",
   "name": "python3"
  },
  "language_info": {
   "codemirror_mode": {
    "name": "ipython",
    "version": 3
   },
   "file_extension": ".py",
   "mimetype": "text/x-python",
   "name": "python",
   "nbconvert_exporter": "python",
   "pygments_lexer": "ipython3",
   "version": "3.7.7"
  }
 },
 "nbformat": 4,
 "nbformat_minor": 2
}
